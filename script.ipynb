{
  "nbformat": 4,
  "nbformat_minor": 0,
  "metadata": {
    "colab": {
      "name": "script_2.ipynb",
      "provenance": [],
      "collapsed_sections": []
    },
    "kernelspec": {
      "name": "python3",
      "display_name": "Python 3"
    }
  },
  "cells": [
    {
      "cell_type": "markdown",
      "metadata": {
        "id": "Efokqrn3f8Bz"
      },
      "source": [
        "# **RETO PERU** \n",
        "## *PRIORIZACION DE DESCUENTOS*\n",
        "### Crear un modelo que estime la probabilidad de que un cliente tome una promoción y así encontrar las mejores promociones en los clientes con mayor probabilidad de adherirse a ellas."
      ]
    },
    {
      "cell_type": "markdown",
      "metadata": {
        "id": "9PPr-IlPgdwc"
      },
      "source": [
        "EQUIPO: JicaScience_PE"
      ]
    },
    {
      "cell_type": "code",
      "metadata": {
        "id": "uRA-IuDJDdBA",
        "colab": {
          "base_uri": "https://localhost:8080/"
        },
        "outputId": "32e3665b-e006-41b7-a192-7ced447d3e7d"
      },
      "source": [
        "from google.colab import drive\n",
        "drive.mount('/drive')                                                                                                                                                                                                                                                       "
      ],
      "execution_count": null,
      "outputs": [
        {
          "output_type": "stream",
          "text": [
            "Mounted at /drive\n"
          ],
          "name": "stdout"
        }
      ]
    },
    {
      "cell_type": "code",
      "metadata": {
        "colab": {
          "base_uri": "https://localhost:8080/"
        },
        "id": "ZPcVy6bFU0Lh",
        "outputId": "228f9272-48a4-4bb6-a86c-d320c4a9c452"
      },
      "source": [
        "# Test the path\n",
        "%ls /drive/MyDrive/Hackatones/Backus/data/input_data/"
      ],
      "execution_count": null,
      "outputs": [
        {
          "output_type": "stream",
          "text": [
            "active_promos.csv  clients_attributes.csv  executed_promos.csv  sales.csv\n"
          ],
          "name": "stdout"
        }
      ]
    },
    {
      "cell_type": "markdown",
      "metadata": {
        "id": "86Yd7DiPduus"
      },
      "source": [
        "## 1. Cargar la data "
      ]
    },
    {
      "cell_type": "code",
      "metadata": {
        "id": "05EKn8zJYEWt"
      },
      "source": [
        "import pandas as pd\n",
        "import datetime"
      ],
      "execution_count": null,
      "outputs": []
    },
    {
      "cell_type": "code",
      "metadata": {
        "id": "jneWe_OJU-OV"
      },
      "source": [
        "folder_input = \"/drive/MyDrive/Hackatones/Backus/data/input_data/\"\n",
        "folder_output = \"/drive/MyDrive/Hackatones/Backus/data/output_data/\"\n",
        "file_clients = folder_input + \"clients_attributes.csv\"  \n",
        "file_promos_ex = folder_input + \"executed_promos.csv\"\n",
        "file_promos_ac = folder_input + \"active_promos.csv\"\n",
        "file_sales = folder_input + \"sales.csv\""
      ],
      "execution_count": null,
      "outputs": []
    },
    {
      "cell_type": "markdown",
      "metadata": {
        "id": "3WXjYqX1hx2W"
      },
      "source": [
        "### - Crear el DataFrame **Atributos de los clientes** "
      ]
    },
    {
      "cell_type": "code",
      "metadata": {
        "id": "v1e8z9QKhj3g"
      },
      "source": [
        "df_clients = pd.read_csv(file_clients, parse_dates=[\"FechaAltaCliente\"])"
      ],
      "execution_count": null,
      "outputs": []
    },
    {
      "cell_type": "code",
      "metadata": {
        "colab": {
          "base_uri": "https://localhost:8080/",
          "height": 204
        },
        "id": "bkr8v24Xbubh",
        "outputId": "8337496f-fee4-4de1-ba8d-cb8ee75d60a5"
      },
      "source": [
        "df_clients.head()"
      ],
      "execution_count": null,
      "outputs": [
        {
          "output_type": "execute_result",
          "data": {
            "text/html": [
              "<div>\n",
              "<style scoped>\n",
              "    .dataframe tbody tr th:only-of-type {\n",
              "        vertical-align: middle;\n",
              "    }\n",
              "\n",
              "    .dataframe tbody tr th {\n",
              "        vertical-align: top;\n",
              "    }\n",
              "\n",
              "    .dataframe thead th {\n",
              "        text-align: right;\n",
              "    }\n",
              "</style>\n",
              "<table border=\"1\" class=\"dataframe\">\n",
              "  <thead>\n",
              "    <tr style=\"text-align: right;\">\n",
              "      <th></th>\n",
              "      <th>Cliente</th>\n",
              "      <th>FechaAltaCliente</th>\n",
              "      <th>Region</th>\n",
              "      <th>Gerencia</th>\n",
              "      <th>SubCanal</th>\n",
              "      <th>TipoPoblacion</th>\n",
              "      <th>Estrato</th>\n",
              "      <th>EF</th>\n",
              "    </tr>\n",
              "  </thead>\n",
              "  <tbody>\n",
              "    <tr>\n",
              "      <th>0</th>\n",
              "      <td>1</td>\n",
              "      <td>2009-03-03</td>\n",
              "      <td>4</td>\n",
              "      <td>21</td>\n",
              "      <td>12</td>\n",
              "      <td>1</td>\n",
              "      <td>1</td>\n",
              "      <td>1</td>\n",
              "    </tr>\n",
              "    <tr>\n",
              "      <th>1</th>\n",
              "      <td>9</td>\n",
              "      <td>2009-03-03</td>\n",
              "      <td>4</td>\n",
              "      <td>21</td>\n",
              "      <td>9</td>\n",
              "      <td>2</td>\n",
              "      <td>3</td>\n",
              "      <td>1</td>\n",
              "    </tr>\n",
              "    <tr>\n",
              "      <th>2</th>\n",
              "      <td>15</td>\n",
              "      <td>2009-03-03</td>\n",
              "      <td>4</td>\n",
              "      <td>21</td>\n",
              "      <td>9</td>\n",
              "      <td>2</td>\n",
              "      <td>3</td>\n",
              "      <td>0</td>\n",
              "    </tr>\n",
              "    <tr>\n",
              "      <th>3</th>\n",
              "      <td>37</td>\n",
              "      <td>2009-03-03</td>\n",
              "      <td>4</td>\n",
              "      <td>21</td>\n",
              "      <td>16</td>\n",
              "      <td>2</td>\n",
              "      <td>3</td>\n",
              "      <td>1</td>\n",
              "    </tr>\n",
              "    <tr>\n",
              "      <th>4</th>\n",
              "      <td>43</td>\n",
              "      <td>2009-03-03</td>\n",
              "      <td>4</td>\n",
              "      <td>21</td>\n",
              "      <td>9</td>\n",
              "      <td>2</td>\n",
              "      <td>3</td>\n",
              "      <td>0</td>\n",
              "    </tr>\n",
              "  </tbody>\n",
              "</table>\n",
              "</div>"
            ],
            "text/plain": [
              "   Cliente FechaAltaCliente  Region  ...  TipoPoblacion  Estrato  EF\n",
              "0        1       2009-03-03       4  ...              1        1   1\n",
              "1        9       2009-03-03       4  ...              2        3   1\n",
              "2       15       2009-03-03       4  ...              2        3   0\n",
              "3       37       2009-03-03       4  ...              2        3   1\n",
              "4       43       2009-03-03       4  ...              2        3   0\n",
              "\n",
              "[5 rows x 8 columns]"
            ]
          },
          "metadata": {
            "tags": []
          },
          "execution_count": 11
        }
      ]
    },
    {
      "cell_type": "code",
      "metadata": {
        "colab": {
          "base_uri": "https://localhost:8080/"
        },
        "id": "6lkg4krWiSYT",
        "outputId": "704e6d51-f848-47e1-da67-60628618e595"
      },
      "source": [
        "df_clients.info()"
      ],
      "execution_count": null,
      "outputs": [
        {
          "output_type": "stream",
          "text": [
            "<class 'pandas.core.frame.DataFrame'>\n",
            "RangeIndex: 15069 entries, 0 to 15068\n",
            "Data columns (total 8 columns):\n",
            " #   Column            Non-Null Count  Dtype         \n",
            "---  ------            --------------  -----         \n",
            " 0   Cliente           15069 non-null  int64         \n",
            " 1   FechaAltaCliente  15069 non-null  datetime64[ns]\n",
            " 2   Region            15069 non-null  int64         \n",
            " 3   Gerencia          15069 non-null  int64         \n",
            " 4   SubCanal          15069 non-null  int64         \n",
            " 5   TipoPoblacion     15069 non-null  int64         \n",
            " 6   Estrato           15069 non-null  int64         \n",
            " 7   EF                15069 non-null  int64         \n",
            "dtypes: datetime64[ns](1), int64(7)\n",
            "memory usage: 941.9 KB\n"
          ],
          "name": "stdout"
        }
      ]
    },
    {
      "cell_type": "markdown",
      "metadata": {
        "id": "7m1bbFACiey_"
      },
      "source": [
        "### - Crear el DataFrame **Promociones ejecutadas** \n",
        "\n",
        "\n"
      ]
    },
    {
      "cell_type": "code",
      "metadata": {
        "id": "m4hydES-iyra"
      },
      "source": [
        "df_promos_ex = pd.read_csv(file_promos_ex)\n",
        "df_promos_ex['Ejecuto_Promo']=1"
      ],
      "execution_count": null,
      "outputs": []
    },
    {
      "cell_type": "code",
      "metadata": {
        "colab": {
          "base_uri": "https://localhost:8080/",
          "height": 204
        },
        "id": "L6Bpt1oMYMGD",
        "outputId": "7cbd1bf6-3921-46ea-c157-ca90b55e4158"
      },
      "source": [
        "df_promos_ex.head()"
      ],
      "execution_count": null,
      "outputs": [
        {
          "output_type": "execute_result",
          "data": {
            "text/html": [
              "<div>\n",
              "<style scoped>\n",
              "    .dataframe tbody tr th:only-of-type {\n",
              "        vertical-align: middle;\n",
              "    }\n",
              "\n",
              "    .dataframe tbody tr th {\n",
              "        vertical-align: top;\n",
              "    }\n",
              "\n",
              "    .dataframe thead th {\n",
              "        text-align: right;\n",
              "    }\n",
              "</style>\n",
              "<table border=\"1\" class=\"dataframe\">\n",
              "  <thead>\n",
              "    <tr style=\"text-align: right;\">\n",
              "      <th></th>\n",
              "      <th>CodigoDC</th>\n",
              "      <th>Cliente</th>\n",
              "      <th>Marca</th>\n",
              "      <th>Cupo</th>\n",
              "      <th>Ejecuto_Promo</th>\n",
              "    </tr>\n",
              "  </thead>\n",
              "  <tbody>\n",
              "    <tr>\n",
              "      <th>0</th>\n",
              "      <td>297601</td>\n",
              "      <td>8410</td>\n",
              "      <td>29</td>\n",
              "      <td>9</td>\n",
              "      <td>1</td>\n",
              "    </tr>\n",
              "    <tr>\n",
              "      <th>1</th>\n",
              "      <td>297601</td>\n",
              "      <td>9337</td>\n",
              "      <td>29</td>\n",
              "      <td>9</td>\n",
              "      <td>1</td>\n",
              "    </tr>\n",
              "    <tr>\n",
              "      <th>2</th>\n",
              "      <td>309843</td>\n",
              "      <td>7404</td>\n",
              "      <td>40</td>\n",
              "      <td>16</td>\n",
              "      <td>1</td>\n",
              "    </tr>\n",
              "    <tr>\n",
              "      <th>3</th>\n",
              "      <td>309874</td>\n",
              "      <td>4017</td>\n",
              "      <td>40</td>\n",
              "      <td>16</td>\n",
              "      <td>1</td>\n",
              "    </tr>\n",
              "    <tr>\n",
              "      <th>4</th>\n",
              "      <td>309910</td>\n",
              "      <td>6316</td>\n",
              "      <td>40</td>\n",
              "      <td>16</td>\n",
              "      <td>1</td>\n",
              "    </tr>\n",
              "  </tbody>\n",
              "</table>\n",
              "</div>"
            ],
            "text/plain": [
              "   CodigoDC  Cliente  Marca  Cupo  Ejecuto_Promo\n",
              "0    297601     8410     29     9              1\n",
              "1    297601     9337     29     9              1\n",
              "2    309843     7404     40    16              1\n",
              "3    309874     4017     40    16              1\n",
              "4    309910     6316     40    16              1"
            ]
          },
          "metadata": {
            "tags": []
          },
          "execution_count": 14
        }
      ]
    },
    {
      "cell_type": "code",
      "metadata": {
        "colab": {
          "base_uri": "https://localhost:8080/"
        },
        "id": "IMfAk_cLi6AO",
        "outputId": "d30c4976-e95e-43a3-8fa6-19fb87716475"
      },
      "source": [
        "df_promos_ex.info()"
      ],
      "execution_count": null,
      "outputs": [
        {
          "output_type": "stream",
          "text": [
            "<class 'pandas.core.frame.DataFrame'>\n",
            "RangeIndex: 27794 entries, 0 to 27793\n",
            "Data columns (total 5 columns):\n",
            " #   Column         Non-Null Count  Dtype\n",
            "---  ------         --------------  -----\n",
            " 0   CodigoDC       27794 non-null  int64\n",
            " 1   Cliente        27794 non-null  int64\n",
            " 2   Marca          27794 non-null  int64\n",
            " 3   Cupo           27794 non-null  int64\n",
            " 4   Ejecuto_Promo  27794 non-null  int64\n",
            "dtypes: int64(5)\n",
            "memory usage: 1.1 MB\n"
          ],
          "name": "stdout"
        }
      ]
    },
    {
      "cell_type": "markdown",
      "metadata": {
        "id": "aMfiWzDCjE-S"
      },
      "source": [
        "### - Crera el DataFrame **Promociones actuales** "
      ]
    },
    {
      "cell_type": "code",
      "metadata": {
        "id": "jJLzzoA1jSZ_"
      },
      "source": [
        "df_promos_ac = pd.read_csv(file_promos_ac, parse_dates=[\"Fecha_Desde\", \"Fecha_Hasta\"])"
      ],
      "execution_count": null,
      "outputs": []
    },
    {
      "cell_type": "code",
      "metadata": {
        "colab": {
          "base_uri": "https://localhost:8080/",
          "height": 204
        },
        "id": "7ag1_2YQf5n9",
        "outputId": "8c361fdc-dddc-4757-90ed-a24a2a7ee241"
      },
      "source": [
        "df_promos_ac.head()"
      ],
      "execution_count": null,
      "outputs": [
        {
          "output_type": "execute_result",
          "data": {
            "text/html": [
              "<div>\n",
              "<style scoped>\n",
              "    .dataframe tbody tr th:only-of-type {\n",
              "        vertical-align: middle;\n",
              "    }\n",
              "\n",
              "    .dataframe tbody tr th {\n",
              "        vertical-align: top;\n",
              "    }\n",
              "\n",
              "    .dataframe thead th {\n",
              "        text-align: right;\n",
              "    }\n",
              "</style>\n",
              "<table border=\"1\" class=\"dataframe\">\n",
              "  <thead>\n",
              "    <tr style=\"text-align: right;\">\n",
              "      <th></th>\n",
              "      <th>CodigoDC</th>\n",
              "      <th>Marca</th>\n",
              "      <th>Cupo</th>\n",
              "      <th>Fecha_Desde</th>\n",
              "      <th>Fecha_Hasta</th>\n",
              "      <th>Cliente</th>\n",
              "    </tr>\n",
              "  </thead>\n",
              "  <tbody>\n",
              "    <tr>\n",
              "      <th>0</th>\n",
              "      <td>297601</td>\n",
              "      <td>29</td>\n",
              "      <td>9</td>\n",
              "      <td>2018-08-06</td>\n",
              "      <td>2018-08-30</td>\n",
              "      <td>3213</td>\n",
              "    </tr>\n",
              "    <tr>\n",
              "      <th>1</th>\n",
              "      <td>297601</td>\n",
              "      <td>29</td>\n",
              "      <td>9</td>\n",
              "      <td>2018-08-06</td>\n",
              "      <td>2018-08-30</td>\n",
              "      <td>3795</td>\n",
              "    </tr>\n",
              "    <tr>\n",
              "      <th>2</th>\n",
              "      <td>297601</td>\n",
              "      <td>29</td>\n",
              "      <td>9</td>\n",
              "      <td>2018-08-06</td>\n",
              "      <td>2018-08-30</td>\n",
              "      <td>11816</td>\n",
              "    </tr>\n",
              "    <tr>\n",
              "      <th>3</th>\n",
              "      <td>298856</td>\n",
              "      <td>40</td>\n",
              "      <td>16</td>\n",
              "      <td>2018-08-12</td>\n",
              "      <td>2018-08-19</td>\n",
              "      <td>8444</td>\n",
              "    </tr>\n",
              "    <tr>\n",
              "      <th>4</th>\n",
              "      <td>309916</td>\n",
              "      <td>40</td>\n",
              "      <td>16</td>\n",
              "      <td>2018-08-12</td>\n",
              "      <td>2018-08-19</td>\n",
              "      <td>8488</td>\n",
              "    </tr>\n",
              "  </tbody>\n",
              "</table>\n",
              "</div>"
            ],
            "text/plain": [
              "   CodigoDC  Marca  Cupo Fecha_Desde Fecha_Hasta  Cliente\n",
              "0    297601     29     9  2018-08-06  2018-08-30     3213\n",
              "1    297601     29     9  2018-08-06  2018-08-30     3795\n",
              "2    297601     29     9  2018-08-06  2018-08-30    11816\n",
              "3    298856     40    16  2018-08-12  2018-08-19     8444\n",
              "4    309916     40    16  2018-08-12  2018-08-19     8488"
            ]
          },
          "metadata": {
            "tags": []
          },
          "execution_count": 17
        }
      ]
    },
    {
      "cell_type": "code",
      "metadata": {
        "colab": {
          "base_uri": "https://localhost:8080/"
        },
        "id": "YJQwyInojZmg",
        "outputId": "46e6406a-3caa-4c2d-c8a2-b4a12e4f97a1"
      },
      "source": [
        "df_promos_ac.info()"
      ],
      "execution_count": null,
      "outputs": [
        {
          "output_type": "stream",
          "text": [
            "<class 'pandas.core.frame.DataFrame'>\n",
            "RangeIndex: 422437 entries, 0 to 422436\n",
            "Data columns (total 6 columns):\n",
            " #   Column       Non-Null Count   Dtype         \n",
            "---  ------       --------------   -----         \n",
            " 0   CodigoDC     422437 non-null  int64         \n",
            " 1   Marca        422437 non-null  int64         \n",
            " 2   Cupo         422437 non-null  int64         \n",
            " 3   Fecha_Desde  422437 non-null  datetime64[ns]\n",
            " 4   Fecha_Hasta  422437 non-null  datetime64[ns]\n",
            " 5   Cliente      422437 non-null  int64         \n",
            "dtypes: datetime64[ns](2), int64(4)\n",
            "memory usage: 19.3 MB\n"
          ],
          "name": "stdout"
        }
      ]
    },
    {
      "cell_type": "markdown",
      "metadata": {
        "id": "V-aVobx3jm_Y"
      },
      "source": [
        "### - Crear el DataFrame **Ventas** "
      ]
    },
    {
      "cell_type": "code",
      "metadata": {
        "id": "vDb9rqxIjktx"
      },
      "source": [
        "df_sales = pd.read_csv(file_sales, encoding=\"ISO-8859-1\", engine=\"python\")"
      ],
      "execution_count": null,
      "outputs": []
    },
    {
      "cell_type": "code",
      "metadata": {
        "colab": {
          "base_uri": "https://localhost:8080/",
          "height": 204
        },
        "id": "QPjltVH9j8g3",
        "outputId": "68b2326f-6e66-4e03-a4ab-97226d04f51d"
      },
      "source": [
        "df_sales.head()"
      ],
      "execution_count": null,
      "outputs": [
        {
          "output_type": "execute_result",
          "data": {
            "text/html": [
              "<div>\n",
              "<style scoped>\n",
              "    .dataframe tbody tr th:only-of-type {\n",
              "        vertical-align: middle;\n",
              "    }\n",
              "\n",
              "    .dataframe tbody tr th {\n",
              "        vertical-align: top;\n",
              "    }\n",
              "\n",
              "    .dataframe thead th {\n",
              "        text-align: right;\n",
              "    }\n",
              "</style>\n",
              "<table border=\"1\" class=\"dataframe\">\n",
              "  <thead>\n",
              "    <tr style=\"text-align: right;\">\n",
              "      <th></th>\n",
              "      <th>Cliente</th>\n",
              "      <th>Año</th>\n",
              "      <th>Mes</th>\n",
              "      <th>ClaseEnvase</th>\n",
              "      <th>SegmentoPrecio</th>\n",
              "      <th>Marca</th>\n",
              "      <th>Cupo</th>\n",
              "      <th>Nr</th>\n",
              "      <th>Hl</th>\n",
              "      <th>Dcto</th>\n",
              "    </tr>\n",
              "  </thead>\n",
              "  <tbody>\n",
              "    <tr>\n",
              "      <th>0</th>\n",
              "      <td>1</td>\n",
              "      <td>2018</td>\n",
              "      <td>1</td>\n",
              "      <td>2</td>\n",
              "      <td>2.0</td>\n",
              "      <td>44</td>\n",
              "      <td>10.0</td>\n",
              "      <td>6352.94</td>\n",
              "      <td>0.03</td>\n",
              "      <td>0.0</td>\n",
              "    </tr>\n",
              "    <tr>\n",
              "      <th>1</th>\n",
              "      <td>1</td>\n",
              "      <td>2018</td>\n",
              "      <td>1</td>\n",
              "      <td>2</td>\n",
              "      <td>4.0</td>\n",
              "      <td>18</td>\n",
              "      <td>16.0</td>\n",
              "      <td>99130.50</td>\n",
              "      <td>0.45</td>\n",
              "      <td>0.0</td>\n",
              "    </tr>\n",
              "    <tr>\n",
              "      <th>2</th>\n",
              "      <td>1</td>\n",
              "      <td>2018</td>\n",
              "      <td>6</td>\n",
              "      <td>2</td>\n",
              "      <td>1.0</td>\n",
              "      <td>2</td>\n",
              "      <td>6.0</td>\n",
              "      <td>11605.40</td>\n",
              "      <td>0.07</td>\n",
              "      <td>-2880.0</td>\n",
              "    </tr>\n",
              "    <tr>\n",
              "      <th>3</th>\n",
              "      <td>1</td>\n",
              "      <td>2018</td>\n",
              "      <td>7</td>\n",
              "      <td>1</td>\n",
              "      <td>2.0</td>\n",
              "      <td>37</td>\n",
              "      <td>34.0</td>\n",
              "      <td>1944.01</td>\n",
              "      <td>0.01</td>\n",
              "      <td>0.0</td>\n",
              "    </tr>\n",
              "    <tr>\n",
              "      <th>4</th>\n",
              "      <td>1</td>\n",
              "      <td>2018</td>\n",
              "      <td>8</td>\n",
              "      <td>2</td>\n",
              "      <td>1.0</td>\n",
              "      <td>2</td>\n",
              "      <td>16.0</td>\n",
              "      <td>16250.18</td>\n",
              "      <td>0.06</td>\n",
              "      <td>0.0</td>\n",
              "    </tr>\n",
              "  </tbody>\n",
              "</table>\n",
              "</div>"
            ],
            "text/plain": [
              "   Cliente   Año  Mes  ClaseEnvase  ...  Cupo        Nr    Hl    Dcto\n",
              "0        1  2018    1            2  ...  10.0   6352.94  0.03     0.0\n",
              "1        1  2018    1            2  ...  16.0  99130.50  0.45     0.0\n",
              "2        1  2018    6            2  ...   6.0  11605.40  0.07 -2880.0\n",
              "3        1  2018    7            1  ...  34.0   1944.01  0.01     0.0\n",
              "4        1  2018    8            2  ...  16.0  16250.18  0.06     0.0\n",
              "\n",
              "[5 rows x 10 columns]"
            ]
          },
          "metadata": {
            "tags": []
          },
          "execution_count": 20
        }
      ]
    },
    {
      "cell_type": "code",
      "metadata": {
        "colab": {
          "base_uri": "https://localhost:8080/",
          "height": 204
        },
        "id": "cOhje902j2Go",
        "outputId": "df350d08-13f1-43bc-eaac-21c06866af19"
      },
      "source": [
        "# Change to datetime variable: [Año, Mes] -> FechaVenta\n",
        "def change_to_datetime(row):\n",
        "  year = row[0]\n",
        "  month = row[1]\n",
        "  fecha = str(year) + \"/\" + str(month) \n",
        "  return datetime.datetime.strptime(fecha, \"%Y/%m\")\n",
        "\n",
        "df_sales.insert(1,\"FechaVenta\",df_sales[[\"Año\",\"Mes\"]].apply(change_to_datetime, axis=1))\n",
        "\n",
        "del df_sales[\"Año\"]\n",
        "del df_sales[\"Mes\"]\n",
        "\n",
        "df_sales.head()"
      ],
      "execution_count": null,
      "outputs": [
        {
          "output_type": "execute_result",
          "data": {
            "text/html": [
              "<div>\n",
              "<style scoped>\n",
              "    .dataframe tbody tr th:only-of-type {\n",
              "        vertical-align: middle;\n",
              "    }\n",
              "\n",
              "    .dataframe tbody tr th {\n",
              "        vertical-align: top;\n",
              "    }\n",
              "\n",
              "    .dataframe thead th {\n",
              "        text-align: right;\n",
              "    }\n",
              "</style>\n",
              "<table border=\"1\" class=\"dataframe\">\n",
              "  <thead>\n",
              "    <tr style=\"text-align: right;\">\n",
              "      <th></th>\n",
              "      <th>Cliente</th>\n",
              "      <th>FechaVenta</th>\n",
              "      <th>ClaseEnvase</th>\n",
              "      <th>SegmentoPrecio</th>\n",
              "      <th>Marca</th>\n",
              "      <th>Cupo</th>\n",
              "      <th>Nr</th>\n",
              "      <th>Hl</th>\n",
              "      <th>Dcto</th>\n",
              "    </tr>\n",
              "  </thead>\n",
              "  <tbody>\n",
              "    <tr>\n",
              "      <th>0</th>\n",
              "      <td>1</td>\n",
              "      <td>2018-01-01</td>\n",
              "      <td>2</td>\n",
              "      <td>2.0</td>\n",
              "      <td>44</td>\n",
              "      <td>10.0</td>\n",
              "      <td>6352.94</td>\n",
              "      <td>0.03</td>\n",
              "      <td>0.0</td>\n",
              "    </tr>\n",
              "    <tr>\n",
              "      <th>1</th>\n",
              "      <td>1</td>\n",
              "      <td>2018-01-01</td>\n",
              "      <td>2</td>\n",
              "      <td>4.0</td>\n",
              "      <td>18</td>\n",
              "      <td>16.0</td>\n",
              "      <td>99130.50</td>\n",
              "      <td>0.45</td>\n",
              "      <td>0.0</td>\n",
              "    </tr>\n",
              "    <tr>\n",
              "      <th>2</th>\n",
              "      <td>1</td>\n",
              "      <td>2018-06-01</td>\n",
              "      <td>2</td>\n",
              "      <td>1.0</td>\n",
              "      <td>2</td>\n",
              "      <td>6.0</td>\n",
              "      <td>11605.40</td>\n",
              "      <td>0.07</td>\n",
              "      <td>-2880.0</td>\n",
              "    </tr>\n",
              "    <tr>\n",
              "      <th>3</th>\n",
              "      <td>1</td>\n",
              "      <td>2018-07-01</td>\n",
              "      <td>1</td>\n",
              "      <td>2.0</td>\n",
              "      <td>37</td>\n",
              "      <td>34.0</td>\n",
              "      <td>1944.01</td>\n",
              "      <td>0.01</td>\n",
              "      <td>0.0</td>\n",
              "    </tr>\n",
              "    <tr>\n",
              "      <th>4</th>\n",
              "      <td>1</td>\n",
              "      <td>2018-08-01</td>\n",
              "      <td>2</td>\n",
              "      <td>1.0</td>\n",
              "      <td>2</td>\n",
              "      <td>16.0</td>\n",
              "      <td>16250.18</td>\n",
              "      <td>0.06</td>\n",
              "      <td>0.0</td>\n",
              "    </tr>\n",
              "  </tbody>\n",
              "</table>\n",
              "</div>"
            ],
            "text/plain": [
              "   Cliente FechaVenta  ClaseEnvase  ...        Nr    Hl    Dcto\n",
              "0        1 2018-01-01            2  ...   6352.94  0.03     0.0\n",
              "1        1 2018-01-01            2  ...  99130.50  0.45     0.0\n",
              "2        1 2018-06-01            2  ...  11605.40  0.07 -2880.0\n",
              "3        1 2018-07-01            1  ...   1944.01  0.01     0.0\n",
              "4        1 2018-08-01            2  ...  16250.18  0.06     0.0\n",
              "\n",
              "[5 rows x 9 columns]"
            ]
          },
          "metadata": {
            "tags": []
          },
          "execution_count": 21
        }
      ]
    },
    {
      "cell_type": "code",
      "metadata": {
        "colab": {
          "base_uri": "https://localhost:8080/"
        },
        "id": "MtVfT7emf9xf",
        "outputId": "ce89d810-81ac-4bbf-8e93-15143424481c"
      },
      "source": [
        "df_sales.info(null_counts=True)"
      ],
      "execution_count": null,
      "outputs": [
        {
          "output_type": "stream",
          "text": [
            "<class 'pandas.core.frame.DataFrame'>\n",
            "RangeIndex: 1894252 entries, 0 to 1894251\n",
            "Data columns (total 9 columns):\n",
            " #   Column          Non-Null Count    Dtype         \n",
            "---  ------          --------------    -----         \n",
            " 0   Cliente         1894252 non-null  int64         \n",
            " 1   FechaVenta      1894252 non-null  datetime64[ns]\n",
            " 2   ClaseEnvase     1894252 non-null  int64         \n",
            " 3   SegmentoPrecio  1894247 non-null  float64       \n",
            " 4   Marca           1894252 non-null  int64         \n",
            " 5   Cupo            1894247 non-null  float64       \n",
            " 6   Nr              1894252 non-null  float64       \n",
            " 7   Hl              1894252 non-null  float64       \n",
            " 8   Dcto            1894252 non-null  float64       \n",
            "dtypes: datetime64[ns](1), float64(5), int64(3)\n",
            "memory usage: 130.1 MB\n"
          ],
          "name": "stdout"
        }
      ]
    },
    {
      "cell_type": "markdown",
      "metadata": {
        "id": "URk4w1eZlB88"
      },
      "source": [
        "## 2. Obtener nuevos dataframes"
      ]
    },
    {
      "cell_type": "markdown",
      "metadata": {
        "id": "9EeJwZZIlXoS"
      },
      "source": [
        "## - Formar el DataFrame **Promociones completas**\n",
        "\n"
      ]
    },
    {
      "cell_type": "code",
      "metadata": {
        "id": "sevYcLnnf9Jc"
      },
      "source": [
        "# Se unen los dataframes df_promos_ac con df_promos_ex\n",
        "result = pd.merge(df_promos_ac, df_promos_ex, how='left', on=['CodigoDC',\t'Cliente'\t,'Marca',\t'Cupo'])\n",
        "result = result.fillna(0) "
      ],
      "execution_count": null,
      "outputs": []
    },
    {
      "cell_type": "code",
      "metadata": {
        "colab": {
          "base_uri": "https://localhost:8080/",
          "height": 204
        },
        "id": "CW3Sg_3Rl-Js",
        "outputId": "d21cc098-cc53-4f28-ce9f-ca2c777e5ce2"
      },
      "source": [
        "result.head()"
      ],
      "execution_count": null,
      "outputs": [
        {
          "output_type": "execute_result",
          "data": {
            "text/html": [
              "<div>\n",
              "<style scoped>\n",
              "    .dataframe tbody tr th:only-of-type {\n",
              "        vertical-align: middle;\n",
              "    }\n",
              "\n",
              "    .dataframe tbody tr th {\n",
              "        vertical-align: top;\n",
              "    }\n",
              "\n",
              "    .dataframe thead th {\n",
              "        text-align: right;\n",
              "    }\n",
              "</style>\n",
              "<table border=\"1\" class=\"dataframe\">\n",
              "  <thead>\n",
              "    <tr style=\"text-align: right;\">\n",
              "      <th></th>\n",
              "      <th>CodigoDC</th>\n",
              "      <th>Marca</th>\n",
              "      <th>Cupo</th>\n",
              "      <th>Fecha_Desde</th>\n",
              "      <th>Fecha_Hasta</th>\n",
              "      <th>Cliente</th>\n",
              "      <th>Ejecuto_Promo</th>\n",
              "    </tr>\n",
              "  </thead>\n",
              "  <tbody>\n",
              "    <tr>\n",
              "      <th>0</th>\n",
              "      <td>297601</td>\n",
              "      <td>29</td>\n",
              "      <td>9</td>\n",
              "      <td>2018-08-06</td>\n",
              "      <td>2018-08-30</td>\n",
              "      <td>3213</td>\n",
              "      <td>0.0</td>\n",
              "    </tr>\n",
              "    <tr>\n",
              "      <th>1</th>\n",
              "      <td>297601</td>\n",
              "      <td>29</td>\n",
              "      <td>9</td>\n",
              "      <td>2018-08-06</td>\n",
              "      <td>2018-08-30</td>\n",
              "      <td>3795</td>\n",
              "      <td>0.0</td>\n",
              "    </tr>\n",
              "    <tr>\n",
              "      <th>2</th>\n",
              "      <td>297601</td>\n",
              "      <td>29</td>\n",
              "      <td>9</td>\n",
              "      <td>2018-08-06</td>\n",
              "      <td>2018-08-30</td>\n",
              "      <td>11816</td>\n",
              "      <td>1.0</td>\n",
              "    </tr>\n",
              "    <tr>\n",
              "      <th>3</th>\n",
              "      <td>298856</td>\n",
              "      <td>40</td>\n",
              "      <td>16</td>\n",
              "      <td>2018-08-12</td>\n",
              "      <td>2018-08-19</td>\n",
              "      <td>8444</td>\n",
              "      <td>1.0</td>\n",
              "    </tr>\n",
              "    <tr>\n",
              "      <th>4</th>\n",
              "      <td>309916</td>\n",
              "      <td>40</td>\n",
              "      <td>16</td>\n",
              "      <td>2018-08-12</td>\n",
              "      <td>2018-08-19</td>\n",
              "      <td>8488</td>\n",
              "      <td>1.0</td>\n",
              "    </tr>\n",
              "  </tbody>\n",
              "</table>\n",
              "</div>"
            ],
            "text/plain": [
              "   CodigoDC  Marca  Cupo Fecha_Desde Fecha_Hasta  Cliente  Ejecuto_Promo\n",
              "0    297601     29     9  2018-08-06  2018-08-30     3213            0.0\n",
              "1    297601     29     9  2018-08-06  2018-08-30     3795            0.0\n",
              "2    297601     29     9  2018-08-06  2018-08-30    11816            1.0\n",
              "3    298856     40    16  2018-08-12  2018-08-19     8444            1.0\n",
              "4    309916     40    16  2018-08-12  2018-08-19     8488            1.0"
            ]
          },
          "metadata": {
            "tags": []
          },
          "execution_count": 34
        }
      ]
    },
    {
      "cell_type": "code",
      "metadata": {
        "colab": {
          "base_uri": "https://localhost:8080/"
        },
        "id": "djLJlCRhqtuh",
        "outputId": "4b8af1c3-2130-453a-98e5-dfa1443c7fa8"
      },
      "source": [
        "result.info()"
      ],
      "execution_count": null,
      "outputs": [
        {
          "output_type": "stream",
          "text": [
            "<class 'pandas.core.frame.DataFrame'>\n",
            "Int64Index: 422437 entries, 0 to 422436\n",
            "Data columns (total 7 columns):\n",
            " #   Column         Non-Null Count   Dtype         \n",
            "---  ------         --------------   -----         \n",
            " 0   CodigoDC       422437 non-null  int64         \n",
            " 1   Marca          422437 non-null  int64         \n",
            " 2   Cupo           422437 non-null  int64         \n",
            " 3   Fecha_Desde    422437 non-null  datetime64[ns]\n",
            " 4   Fecha_Hasta    422437 non-null  datetime64[ns]\n",
            " 5   Cliente        422437 non-null  int64         \n",
            " 6   Ejecuto_Promo  422437 non-null  float64       \n",
            "dtypes: datetime64[ns](2), float64(1), int64(4)\n",
            "memory usage: 25.8 MB\n"
          ],
          "name": "stdout"
        }
      ]
    },
    {
      "cell_type": "markdown",
      "metadata": {
        "id": "b9dXycK5ncYw"
      },
      "source": [
        "## - Formar el DataFrame **Ventas - clientes**"
      ]
    },
    {
      "cell_type": "code",
      "metadata": {
        "id": "seGq6pKspO7m"
      },
      "source": [
        "# Se unen los dataframes df_sales y df_clients uno al lado del otro \n",
        "clienteventas = pd.merge(df_sales, df_clients, how='inner', on=['Cliente'])"
      ],
      "execution_count": null,
      "outputs": []
    },
    {
      "cell_type": "code",
      "metadata": {
        "colab": {
          "base_uri": "https://localhost:8080/",
          "height": 224
        },
        "id": "F_7kz8jToFyn",
        "outputId": "1a31e8bc-41df-40f2-d57a-ad313492917c"
      },
      "source": [
        "clienteventas.head()"
      ],
      "execution_count": null,
      "outputs": [
        {
          "output_type": "execute_result",
          "data": {
            "text/html": [
              "<div>\n",
              "<style scoped>\n",
              "    .dataframe tbody tr th:only-of-type {\n",
              "        vertical-align: middle;\n",
              "    }\n",
              "\n",
              "    .dataframe tbody tr th {\n",
              "        vertical-align: top;\n",
              "    }\n",
              "\n",
              "    .dataframe thead th {\n",
              "        text-align: right;\n",
              "    }\n",
              "</style>\n",
              "<table border=\"1\" class=\"dataframe\">\n",
              "  <thead>\n",
              "    <tr style=\"text-align: right;\">\n",
              "      <th></th>\n",
              "      <th>Cliente</th>\n",
              "      <th>FechaVenta</th>\n",
              "      <th>ClaseEnvase</th>\n",
              "      <th>SegmentoPrecio</th>\n",
              "      <th>Marca</th>\n",
              "      <th>Cupo</th>\n",
              "      <th>Nr</th>\n",
              "      <th>Hl</th>\n",
              "      <th>Dcto</th>\n",
              "      <th>FechaAltaCliente</th>\n",
              "      <th>Region</th>\n",
              "      <th>Gerencia</th>\n",
              "      <th>SubCanal</th>\n",
              "      <th>TipoPoblacion</th>\n",
              "      <th>Estrato</th>\n",
              "      <th>EF</th>\n",
              "    </tr>\n",
              "  </thead>\n",
              "  <tbody>\n",
              "    <tr>\n",
              "      <th>0</th>\n",
              "      <td>1</td>\n",
              "      <td>2018-01-01</td>\n",
              "      <td>2</td>\n",
              "      <td>2.0</td>\n",
              "      <td>44</td>\n",
              "      <td>10.0</td>\n",
              "      <td>6352.94</td>\n",
              "      <td>0.03</td>\n",
              "      <td>0.0</td>\n",
              "      <td>2009-03-03</td>\n",
              "      <td>4</td>\n",
              "      <td>21</td>\n",
              "      <td>12</td>\n",
              "      <td>1</td>\n",
              "      <td>1</td>\n",
              "      <td>1</td>\n",
              "    </tr>\n",
              "    <tr>\n",
              "      <th>1</th>\n",
              "      <td>1</td>\n",
              "      <td>2018-01-01</td>\n",
              "      <td>2</td>\n",
              "      <td>4.0</td>\n",
              "      <td>18</td>\n",
              "      <td>16.0</td>\n",
              "      <td>99130.50</td>\n",
              "      <td>0.45</td>\n",
              "      <td>0.0</td>\n",
              "      <td>2009-03-03</td>\n",
              "      <td>4</td>\n",
              "      <td>21</td>\n",
              "      <td>12</td>\n",
              "      <td>1</td>\n",
              "      <td>1</td>\n",
              "      <td>1</td>\n",
              "    </tr>\n",
              "    <tr>\n",
              "      <th>2</th>\n",
              "      <td>1</td>\n",
              "      <td>2018-06-01</td>\n",
              "      <td>2</td>\n",
              "      <td>1.0</td>\n",
              "      <td>2</td>\n",
              "      <td>6.0</td>\n",
              "      <td>11605.40</td>\n",
              "      <td>0.07</td>\n",
              "      <td>-2880.0</td>\n",
              "      <td>2009-03-03</td>\n",
              "      <td>4</td>\n",
              "      <td>21</td>\n",
              "      <td>12</td>\n",
              "      <td>1</td>\n",
              "      <td>1</td>\n",
              "      <td>1</td>\n",
              "    </tr>\n",
              "    <tr>\n",
              "      <th>3</th>\n",
              "      <td>1</td>\n",
              "      <td>2018-07-01</td>\n",
              "      <td>1</td>\n",
              "      <td>2.0</td>\n",
              "      <td>37</td>\n",
              "      <td>34.0</td>\n",
              "      <td>1944.01</td>\n",
              "      <td>0.01</td>\n",
              "      <td>0.0</td>\n",
              "      <td>2009-03-03</td>\n",
              "      <td>4</td>\n",
              "      <td>21</td>\n",
              "      <td>12</td>\n",
              "      <td>1</td>\n",
              "      <td>1</td>\n",
              "      <td>1</td>\n",
              "    </tr>\n",
              "    <tr>\n",
              "      <th>4</th>\n",
              "      <td>1</td>\n",
              "      <td>2018-08-01</td>\n",
              "      <td>2</td>\n",
              "      <td>1.0</td>\n",
              "      <td>2</td>\n",
              "      <td>16.0</td>\n",
              "      <td>16250.18</td>\n",
              "      <td>0.06</td>\n",
              "      <td>0.0</td>\n",
              "      <td>2009-03-03</td>\n",
              "      <td>4</td>\n",
              "      <td>21</td>\n",
              "      <td>12</td>\n",
              "      <td>1</td>\n",
              "      <td>1</td>\n",
              "      <td>1</td>\n",
              "    </tr>\n",
              "  </tbody>\n",
              "</table>\n",
              "</div>"
            ],
            "text/plain": [
              "   Cliente FechaVenta  ClaseEnvase  ...  TipoPoblacion  Estrato  EF\n",
              "0        1 2018-01-01            2  ...              1        1   1\n",
              "1        1 2018-01-01            2  ...              1        1   1\n",
              "2        1 2018-06-01            2  ...              1        1   1\n",
              "3        1 2018-07-01            1  ...              1        1   1\n",
              "4        1 2018-08-01            2  ...              1        1   1\n",
              "\n",
              "[5 rows x 16 columns]"
            ]
          },
          "metadata": {
            "tags": []
          },
          "execution_count": 39
        }
      ]
    },
    {
      "cell_type": "code",
      "metadata": {
        "colab": {
          "base_uri": "https://localhost:8080/"
        },
        "id": "ZGDT5R1YoLZj",
        "outputId": "ba78d84d-e211-4941-e7e6-53cc384eb290"
      },
      "source": [
        "clienteventas.info()"
      ],
      "execution_count": null,
      "outputs": [
        {
          "output_type": "stream",
          "text": [
            "<class 'pandas.core.frame.DataFrame'>\n",
            "Int64Index: 1894252 entries, 0 to 1894251\n",
            "Data columns (total 16 columns):\n",
            " #   Column            Dtype         \n",
            "---  ------            -----         \n",
            " 0   Cliente           int64         \n",
            " 1   FechaVenta        datetime64[ns]\n",
            " 2   ClaseEnvase       int64         \n",
            " 3   SegmentoPrecio    float64       \n",
            " 4   Marca             int64         \n",
            " 5   Cupo              float64       \n",
            " 6   Nr                float64       \n",
            " 7   Hl                float64       \n",
            " 8   Dcto              float64       \n",
            " 9   FechaAltaCliente  datetime64[ns]\n",
            " 10  Region            int64         \n",
            " 11  Gerencia          int64         \n",
            " 12  SubCanal          int64         \n",
            " 13  TipoPoblacion     int64         \n",
            " 14  Estrato           int64         \n",
            " 15  EF                int64         \n",
            "dtypes: datetime64[ns](2), float64(5), int64(9)\n",
            "memory usage: 245.7 MB\n"
          ],
          "name": "stdout"
        }
      ]
    },
    {
      "cell_type": "markdown",
      "metadata": {
        "id": "ps8qTyj7qdRv"
      },
      "source": [
        "Haciendo algo de analisis del dataframe **clienteventas** ..."
      ]
    },
    {
      "cell_type": "code",
      "metadata": {
        "colab": {
          "base_uri": "https://localhost:8080/"
        },
        "id": "rur47BCJrak7",
        "outputId": "e1a96849-51fa-4147-d026-c08a43e42d4b"
      },
      "source": [
        "# Hallando la cantidad de compras que hace un cliente dado \n",
        "a=clienteventas[clienteventas['Cliente']==1]\n",
        "print(f\"El cliente 1 tuvo {len(a)} compras.\")\n",
        "a.describe()\n",
        "print(f\"Las marcas distintas que compró fueron: {a['Marca'].unique()}\")\n"
      ],
      "execution_count": null,
      "outputs": [
        {
          "output_type": "stream",
          "text": [
            "El cliente 1 tuvo 179 compras.\n",
            "Las marcas distintas que compró fueron: [44 18  2 37  6  9  1 40 43 10 46 28 23 45 17 29 31]\n"
          ],
          "name": "stdout"
        }
      ]
    },
    {
      "cell_type": "code",
      "metadata": {
        "colab": {
          "base_uri": "https://localhost:8080/"
        },
        "id": "G-DvLi1OsIKb",
        "outputId": "297f1e17-6f80-413c-b490-74499f127aa7"
      },
      "source": [
        "# Hallando la cantidad de promociones a las que accede el mismo cliente\n",
        "b=result[result['Cliente']==1]\n",
        "print(f\"El cliente 1 accedió a {len(b)} promociones.\")\n",
        "b.describe()\n",
        "print(f\"Las marcas distintas a las que accedió con promoción fueron: {b['Marca'].unique()}\")"
      ],
      "execution_count": null,
      "outputs": [
        {
          "output_type": "stream",
          "text": [
            "El cliente 1 accedió a 39 promociones.\n",
            "Las marcas distintas a las que accedió con promoción fueron: [40 39 29]\n"
          ],
          "name": "stdout"
        }
      ]
    },
    {
      "cell_type": "markdown",
      "metadata": {
        "id": "Fx1EOj9DtQUO"
      },
      "source": [
        "## - Formar el DataFrame **Dataset**\n",
        "Este dataframe integra informacion de clientes, ventas y promociones"
      ]
    },
    {
      "cell_type": "code",
      "metadata": {
        "id": "l39ZYDaSty4S"
      },
      "source": [
        "# Unir los dfs: clienteventas y result, uno al lado del otro\n",
        "Dataset = pd.merge(clienteventas, result, how='left', on=['Cliente'\t,'Marca',\t'Cupo'])"
      ],
      "execution_count": null,
      "outputs": []
    },
    {
      "cell_type": "code",
      "metadata": {
        "colab": {
          "base_uri": "https://localhost:8080/",
          "height": 224
        },
        "id": "MHotSTv3t2yC",
        "outputId": "361c95ee-31e0-4b69-fe09-b89207ad4e47"
      },
      "source": [
        "Dataset.tail()"
      ],
      "execution_count": null,
      "outputs": [
        {
          "output_type": "execute_result",
          "data": {
            "text/html": [
              "<div>\n",
              "<style scoped>\n",
              "    .dataframe tbody tr th:only-of-type {\n",
              "        vertical-align: middle;\n",
              "    }\n",
              "\n",
              "    .dataframe tbody tr th {\n",
              "        vertical-align: top;\n",
              "    }\n",
              "\n",
              "    .dataframe thead th {\n",
              "        text-align: right;\n",
              "    }\n",
              "</style>\n",
              "<table border=\"1\" class=\"dataframe\">\n",
              "  <thead>\n",
              "    <tr style=\"text-align: right;\">\n",
              "      <th></th>\n",
              "      <th>Cliente</th>\n",
              "      <th>FechaVenta</th>\n",
              "      <th>ClaseEnvase</th>\n",
              "      <th>SegmentoPrecio</th>\n",
              "      <th>Marca</th>\n",
              "      <th>Cupo</th>\n",
              "      <th>Nr</th>\n",
              "      <th>Hl</th>\n",
              "      <th>Dcto</th>\n",
              "      <th>FechaAltaCliente</th>\n",
              "      <th>Region</th>\n",
              "      <th>Gerencia</th>\n",
              "      <th>SubCanal</th>\n",
              "      <th>TipoPoblacion</th>\n",
              "      <th>Estrato</th>\n",
              "      <th>EF</th>\n",
              "      <th>CodigoDC</th>\n",
              "      <th>Fecha_Desde</th>\n",
              "      <th>Fecha_Hasta</th>\n",
              "      <th>Ejecuto_Promo</th>\n",
              "    </tr>\n",
              "  </thead>\n",
              "  <tbody>\n",
              "    <tr>\n",
              "      <th>4555207</th>\n",
              "      <td>15011</td>\n",
              "      <td>2019-07-01</td>\n",
              "      <td>1</td>\n",
              "      <td>2.0</td>\n",
              "      <td>44</td>\n",
              "      <td>29.0</td>\n",
              "      <td>8051.17</td>\n",
              "      <td>0.04</td>\n",
              "      <td>0.0</td>\n",
              "      <td>2019-02-22</td>\n",
              "      <td>5</td>\n",
              "      <td>19</td>\n",
              "      <td>9</td>\n",
              "      <td>2</td>\n",
              "      <td>2</td>\n",
              "      <td>0</td>\n",
              "      <td>NaN</td>\n",
              "      <td>NaT</td>\n",
              "      <td>NaT</td>\n",
              "      <td>NaN</td>\n",
              "    </tr>\n",
              "    <tr>\n",
              "      <th>4555208</th>\n",
              "      <td>15011</td>\n",
              "      <td>2019-03-01</td>\n",
              "      <td>2</td>\n",
              "      <td>1.0</td>\n",
              "      <td>6</td>\n",
              "      <td>16.0</td>\n",
              "      <td>11221.47</td>\n",
              "      <td>0.03</td>\n",
              "      <td>0.0</td>\n",
              "      <td>2019-02-22</td>\n",
              "      <td>5</td>\n",
              "      <td>19</td>\n",
              "      <td>9</td>\n",
              "      <td>2</td>\n",
              "      <td>2</td>\n",
              "      <td>0</td>\n",
              "      <td>NaN</td>\n",
              "      <td>NaT</td>\n",
              "      <td>NaT</td>\n",
              "      <td>NaN</td>\n",
              "    </tr>\n",
              "    <tr>\n",
              "      <th>4555209</th>\n",
              "      <td>15011</td>\n",
              "      <td>2019-03-01</td>\n",
              "      <td>2</td>\n",
              "      <td>1.0</td>\n",
              "      <td>40</td>\n",
              "      <td>16.0</td>\n",
              "      <td>9565.08</td>\n",
              "      <td>0.03</td>\n",
              "      <td>0.0</td>\n",
              "      <td>2019-02-22</td>\n",
              "      <td>5</td>\n",
              "      <td>19</td>\n",
              "      <td>9</td>\n",
              "      <td>2</td>\n",
              "      <td>2</td>\n",
              "      <td>0</td>\n",
              "      <td>NaN</td>\n",
              "      <td>NaT</td>\n",
              "      <td>NaT</td>\n",
              "      <td>NaN</td>\n",
              "    </tr>\n",
              "    <tr>\n",
              "      <th>4555210</th>\n",
              "      <td>15011</td>\n",
              "      <td>2019-04-01</td>\n",
              "      <td>1</td>\n",
              "      <td>2.0</td>\n",
              "      <td>44</td>\n",
              "      <td>29.0</td>\n",
              "      <td>7729.12</td>\n",
              "      <td>0.04</td>\n",
              "      <td>-323.7</td>\n",
              "      <td>2019-02-22</td>\n",
              "      <td>5</td>\n",
              "      <td>19</td>\n",
              "      <td>9</td>\n",
              "      <td>2</td>\n",
              "      <td>2</td>\n",
              "      <td>0</td>\n",
              "      <td>NaN</td>\n",
              "      <td>NaT</td>\n",
              "      <td>NaT</td>\n",
              "      <td>NaN</td>\n",
              "    </tr>\n",
              "    <tr>\n",
              "      <th>4555211</th>\n",
              "      <td>15011</td>\n",
              "      <td>2019-07-01</td>\n",
              "      <td>2</td>\n",
              "      <td>1.0</td>\n",
              "      <td>2</td>\n",
              "      <td>16.0</td>\n",
              "      <td>16451.46</td>\n",
              "      <td>0.06</td>\n",
              "      <td>0.0</td>\n",
              "      <td>2019-02-22</td>\n",
              "      <td>5</td>\n",
              "      <td>19</td>\n",
              "      <td>9</td>\n",
              "      <td>2</td>\n",
              "      <td>2</td>\n",
              "      <td>0</td>\n",
              "      <td>NaN</td>\n",
              "      <td>NaT</td>\n",
              "      <td>NaT</td>\n",
              "      <td>NaN</td>\n",
              "    </tr>\n",
              "  </tbody>\n",
              "</table>\n",
              "</div>"
            ],
            "text/plain": [
              "         Cliente FechaVenta  ClaseEnvase  ...  Fecha_Desde  Fecha_Hasta  Ejecuto_Promo\n",
              "4555207    15011 2019-07-01            1  ...          NaT          NaT            NaN\n",
              "4555208    15011 2019-03-01            2  ...          NaT          NaT            NaN\n",
              "4555209    15011 2019-03-01            2  ...          NaT          NaT            NaN\n",
              "4555210    15011 2019-04-01            1  ...          NaT          NaT            NaN\n",
              "4555211    15011 2019-07-01            2  ...          NaT          NaT            NaN\n",
              "\n",
              "[5 rows x 20 columns]"
            ]
          },
          "metadata": {
            "tags": []
          },
          "execution_count": 75
        }
      ]
    },
    {
      "cell_type": "markdown",
      "metadata": {
        "id": "iUKfGcDXBoaZ"
      },
      "source": [
        "----- Calculando la antiguedad de un cliente"
      ]
    },
    {
      "cell_type": "code",
      "metadata": {
        "id": "2paBAvzy-lgL"
      },
      "source": [
        "# Calcular la antiguedad de un cliente, e insertarlo en la columna 16\n",
        "Dataset.insert(16,\"Antiguedad\", Dataset[\"FechaVenta\"] - Dataset[\"FechaAltaCliente\"])\n",
        "# List clients\n",
        "clients_list = Dataset.groupby(\"Cliente\")\n",
        "aux = clients_list[\"Antiguedad\"].max() # get the max value of each client\n",
        "aux = aux.to_frame()\n",
        "# Join dataframes\n",
        "Dataset = Dataset.merge(aux, how='left', left_on=\"Cliente\", right_index=True, suffixes=('_i','_c'))\n",
        "# Copy, delete and rename\n",
        "Dataset[\"Antiguedad_i\"] = Dataset[\"Antiguedad_c\"]\n",
        "del Dataset[\"Antiguedad_c\"]\n",
        "Dataset.rename(columns={\"Antiguedad_i\":\"Antiguedad\"},inplace=True)"
      ],
      "execution_count": null,
      "outputs": []
    },
    {
      "cell_type": "code",
      "metadata": {
        "colab": {
          "base_uri": "https://localhost:8080/",
          "height": 224
        },
        "id": "cR2v_Goj_xgI",
        "outputId": "cbe2182a-fa48-49ba-ab87-90d883527473"
      },
      "source": [
        "Dataset.head()"
      ],
      "execution_count": null,
      "outputs": [
        {
          "output_type": "execute_result",
          "data": {
            "text/html": [
              "<div>\n",
              "<style scoped>\n",
              "    .dataframe tbody tr th:only-of-type {\n",
              "        vertical-align: middle;\n",
              "    }\n",
              "\n",
              "    .dataframe tbody tr th {\n",
              "        vertical-align: top;\n",
              "    }\n",
              "\n",
              "    .dataframe thead th {\n",
              "        text-align: right;\n",
              "    }\n",
              "</style>\n",
              "<table border=\"1\" class=\"dataframe\">\n",
              "  <thead>\n",
              "    <tr style=\"text-align: right;\">\n",
              "      <th></th>\n",
              "      <th>Cliente</th>\n",
              "      <th>FechaVenta</th>\n",
              "      <th>ClaseEnvase</th>\n",
              "      <th>SegmentoPrecio</th>\n",
              "      <th>Marca</th>\n",
              "      <th>Cupo</th>\n",
              "      <th>Nr</th>\n",
              "      <th>Hl</th>\n",
              "      <th>Dcto</th>\n",
              "      <th>FechaAltaCliente</th>\n",
              "      <th>Region</th>\n",
              "      <th>Gerencia</th>\n",
              "      <th>SubCanal</th>\n",
              "      <th>TipoPoblacion</th>\n",
              "      <th>Estrato</th>\n",
              "      <th>EF</th>\n",
              "      <th>Antiguedad</th>\n",
              "      <th>CodigoDC</th>\n",
              "      <th>Fecha_Desde</th>\n",
              "      <th>Fecha_Hasta</th>\n",
              "      <th>Ejecuto_Promo</th>\n",
              "    </tr>\n",
              "  </thead>\n",
              "  <tbody>\n",
              "    <tr>\n",
              "      <th>0</th>\n",
              "      <td>1</td>\n",
              "      <td>2018-01-01</td>\n",
              "      <td>2</td>\n",
              "      <td>2.0</td>\n",
              "      <td>44</td>\n",
              "      <td>10.0</td>\n",
              "      <td>6352.94</td>\n",
              "      <td>0.03</td>\n",
              "      <td>0.0</td>\n",
              "      <td>2009-03-03</td>\n",
              "      <td>4</td>\n",
              "      <td>21</td>\n",
              "      <td>12</td>\n",
              "      <td>1</td>\n",
              "      <td>1</td>\n",
              "      <td>1</td>\n",
              "      <td>3803 days</td>\n",
              "      <td>NaN</td>\n",
              "      <td>NaT</td>\n",
              "      <td>NaT</td>\n",
              "      <td>NaN</td>\n",
              "    </tr>\n",
              "    <tr>\n",
              "      <th>1</th>\n",
              "      <td>1</td>\n",
              "      <td>2018-01-01</td>\n",
              "      <td>2</td>\n",
              "      <td>4.0</td>\n",
              "      <td>18</td>\n",
              "      <td>16.0</td>\n",
              "      <td>99130.50</td>\n",
              "      <td>0.45</td>\n",
              "      <td>0.0</td>\n",
              "      <td>2009-03-03</td>\n",
              "      <td>4</td>\n",
              "      <td>21</td>\n",
              "      <td>12</td>\n",
              "      <td>1</td>\n",
              "      <td>1</td>\n",
              "      <td>1</td>\n",
              "      <td>3803 days</td>\n",
              "      <td>NaN</td>\n",
              "      <td>NaT</td>\n",
              "      <td>NaT</td>\n",
              "      <td>NaN</td>\n",
              "    </tr>\n",
              "    <tr>\n",
              "      <th>2</th>\n",
              "      <td>1</td>\n",
              "      <td>2018-06-01</td>\n",
              "      <td>2</td>\n",
              "      <td>1.0</td>\n",
              "      <td>2</td>\n",
              "      <td>6.0</td>\n",
              "      <td>11605.40</td>\n",
              "      <td>0.07</td>\n",
              "      <td>-2880.0</td>\n",
              "      <td>2009-03-03</td>\n",
              "      <td>4</td>\n",
              "      <td>21</td>\n",
              "      <td>12</td>\n",
              "      <td>1</td>\n",
              "      <td>1</td>\n",
              "      <td>1</td>\n",
              "      <td>3803 days</td>\n",
              "      <td>NaN</td>\n",
              "      <td>NaT</td>\n",
              "      <td>NaT</td>\n",
              "      <td>NaN</td>\n",
              "    </tr>\n",
              "    <tr>\n",
              "      <th>3</th>\n",
              "      <td>1</td>\n",
              "      <td>2018-07-01</td>\n",
              "      <td>1</td>\n",
              "      <td>2.0</td>\n",
              "      <td>37</td>\n",
              "      <td>34.0</td>\n",
              "      <td>1944.01</td>\n",
              "      <td>0.01</td>\n",
              "      <td>0.0</td>\n",
              "      <td>2009-03-03</td>\n",
              "      <td>4</td>\n",
              "      <td>21</td>\n",
              "      <td>12</td>\n",
              "      <td>1</td>\n",
              "      <td>1</td>\n",
              "      <td>1</td>\n",
              "      <td>3803 days</td>\n",
              "      <td>NaN</td>\n",
              "      <td>NaT</td>\n",
              "      <td>NaT</td>\n",
              "      <td>NaN</td>\n",
              "    </tr>\n",
              "    <tr>\n",
              "      <th>4</th>\n",
              "      <td>1</td>\n",
              "      <td>2018-08-01</td>\n",
              "      <td>2</td>\n",
              "      <td>1.0</td>\n",
              "      <td>2</td>\n",
              "      <td>16.0</td>\n",
              "      <td>16250.18</td>\n",
              "      <td>0.06</td>\n",
              "      <td>0.0</td>\n",
              "      <td>2009-03-03</td>\n",
              "      <td>4</td>\n",
              "      <td>21</td>\n",
              "      <td>12</td>\n",
              "      <td>1</td>\n",
              "      <td>1</td>\n",
              "      <td>1</td>\n",
              "      <td>3803 days</td>\n",
              "      <td>NaN</td>\n",
              "      <td>NaT</td>\n",
              "      <td>NaT</td>\n",
              "      <td>NaN</td>\n",
              "    </tr>\n",
              "  </tbody>\n",
              "</table>\n",
              "</div>"
            ],
            "text/plain": [
              "   Cliente FechaVenta  ClaseEnvase  ...  Fecha_Desde  Fecha_Hasta  Ejecuto_Promo\n",
              "0        1 2018-01-01            2  ...          NaT          NaT            NaN\n",
              "1        1 2018-01-01            2  ...          NaT          NaT            NaN\n",
              "2        1 2018-06-01            2  ...          NaT          NaT            NaN\n",
              "3        1 2018-07-01            1  ...          NaT          NaT            NaN\n",
              "4        1 2018-08-01            2  ...          NaT          NaT            NaN\n",
              "\n",
              "[5 rows x 21 columns]"
            ]
          },
          "metadata": {
            "tags": []
          },
          "execution_count": 77
        }
      ]
    },
    {
      "cell_type": "code",
      "metadata": {
        "colab": {
          "base_uri": "https://localhost:8080/",
          "height": 351
        },
        "id": "u82pCgjKDvMO",
        "outputId": "177cdd58-3045-4557-f9e2-c7d9c2ab28e0"
      },
      "source": [
        "Dataset.describe()"
      ],
      "execution_count": null,
      "outputs": [
        {
          "output_type": "execute_result",
          "data": {
            "text/html": [
              "<div>\n",
              "<style scoped>\n",
              "    .dataframe tbody tr th:only-of-type {\n",
              "        vertical-align: middle;\n",
              "    }\n",
              "\n",
              "    .dataframe tbody tr th {\n",
              "        vertical-align: top;\n",
              "    }\n",
              "\n",
              "    .dataframe thead th {\n",
              "        text-align: right;\n",
              "    }\n",
              "</style>\n",
              "<table border=\"1\" class=\"dataframe\">\n",
              "  <thead>\n",
              "    <tr style=\"text-align: right;\">\n",
              "      <th></th>\n",
              "      <th>Cliente</th>\n",
              "      <th>ClaseEnvase</th>\n",
              "      <th>SegmentoPrecio</th>\n",
              "      <th>Marca</th>\n",
              "      <th>Cupo</th>\n",
              "      <th>Nr</th>\n",
              "      <th>Hl</th>\n",
              "      <th>Dcto</th>\n",
              "      <th>Region</th>\n",
              "      <th>Gerencia</th>\n",
              "      <th>SubCanal</th>\n",
              "      <th>TipoPoblacion</th>\n",
              "      <th>Estrato</th>\n",
              "      <th>EF</th>\n",
              "      <th>Antiguedad</th>\n",
              "      <th>CodigoDC</th>\n",
              "      <th>Ejecuto_Promo</th>\n",
              "    </tr>\n",
              "  </thead>\n",
              "  <tbody>\n",
              "    <tr>\n",
              "      <th>count</th>\n",
              "      <td>4.555212e+06</td>\n",
              "      <td>4.555212e+06</td>\n",
              "      <td>4.555207e+06</td>\n",
              "      <td>4.555212e+06</td>\n",
              "      <td>4.555207e+06</td>\n",
              "      <td>4.555212e+06</td>\n",
              "      <td>4.555212e+06</td>\n",
              "      <td>4.555212e+06</td>\n",
              "      <td>4.555212e+06</td>\n",
              "      <td>4.555212e+06</td>\n",
              "      <td>4.555212e+06</td>\n",
              "      <td>4.555212e+06</td>\n",
              "      <td>4.555212e+06</td>\n",
              "      <td>4.555212e+06</td>\n",
              "      <td>4555212</td>\n",
              "      <td>2.810552e+06</td>\n",
              "      <td>2.810552e+06</td>\n",
              "    </tr>\n",
              "    <tr>\n",
              "      <th>mean</th>\n",
              "      <td>6.555949e+03</td>\n",
              "      <td>1.782569e+00</td>\n",
              "      <td>1.355469e+00</td>\n",
              "      <td>3.489898e+01</td>\n",
              "      <td>1.845227e+01</td>\n",
              "      <td>1.538326e+05</td>\n",
              "      <td>5.183978e-01</td>\n",
              "      <td>-9.356362e+03</td>\n",
              "      <td>2.944171e+00</td>\n",
              "      <td>1.664741e+01</td>\n",
              "      <td>1.231289e+01</td>\n",
              "      <td>1.764739e+00</td>\n",
              "      <td>2.242560e+00</td>\n",
              "      <td>5.335552e-01</td>\n",
              "      <td>2203 days 10:50:49.388385344</td>\n",
              "      <td>5.161113e+05</td>\n",
              "      <td>1.547241e-01</td>\n",
              "    </tr>\n",
              "    <tr>\n",
              "      <th>std</th>\n",
              "      <td>3.914006e+03</td>\n",
              "      <td>4.125012e-01</td>\n",
              "      <td>7.638901e-01</td>\n",
              "      <td>1.198155e+01</td>\n",
              "      <td>5.637584e+00</td>\n",
              "      <td>9.338870e+05</td>\n",
              "      <td>3.124392e+00</td>\n",
              "      <td>2.681667e+05</td>\n",
              "      <td>1.447078e+00</td>\n",
              "      <td>8.307449e+00</td>\n",
              "      <td>4.185103e+00</td>\n",
              "      <td>4.241619e-01</td>\n",
              "      <td>8.927077e-01</td>\n",
              "      <td>4.988728e-01</td>\n",
              "      <td>1193 days 04:06:33.218044592</td>\n",
              "      <td>1.063939e+05</td>\n",
              "      <td>3.616415e-01</td>\n",
              "    </tr>\n",
              "    <tr>\n",
              "      <th>min</th>\n",
              "      <td>1.000000e+00</td>\n",
              "      <td>1.000000e+00</td>\n",
              "      <td>1.000000e+00</td>\n",
              "      <td>1.000000e+00</td>\n",
              "      <td>1.000000e+00</td>\n",
              "      <td>-1.432168e+08</td>\n",
              "      <td>0.000000e+00</td>\n",
              "      <td>-1.630897e+08</td>\n",
              "      <td>1.000000e+00</td>\n",
              "      <td>1.000000e+00</td>\n",
              "      <td>1.000000e+00</td>\n",
              "      <td>1.000000e+00</td>\n",
              "      <td>1.000000e+00</td>\n",
              "      <td>0.000000e+00</td>\n",
              "      <td>127 days 00:00:00</td>\n",
              "      <td>2.976010e+05</td>\n",
              "      <td>0.000000e+00</td>\n",
              "    </tr>\n",
              "    <tr>\n",
              "      <th>25%</th>\n",
              "      <td>3.231000e+03</td>\n",
              "      <td>2.000000e+00</td>\n",
              "      <td>1.000000e+00</td>\n",
              "      <td>3.900000e+01</td>\n",
              "      <td>1.600000e+01</td>\n",
              "      <td>1.255168e+04</td>\n",
              "      <td>4.000000e-02</td>\n",
              "      <td>-2.112220e+03</td>\n",
              "      <td>1.000000e+00</td>\n",
              "      <td>9.000000e+00</td>\n",
              "      <td>9.000000e+00</td>\n",
              "      <td>2.000000e+00</td>\n",
              "      <td>2.000000e+00</td>\n",
              "      <td>0.000000e+00</td>\n",
              "      <td>1046 days 00:00:00</td>\n",
              "      <td>4.114340e+05</td>\n",
              "      <td>0.000000e+00</td>\n",
              "    </tr>\n",
              "    <tr>\n",
              "      <th>50%</th>\n",
              "      <td>6.224000e+03</td>\n",
              "      <td>2.000000e+00</td>\n",
              "      <td>1.000000e+00</td>\n",
              "      <td>4.000000e+01</td>\n",
              "      <td>1.600000e+01</td>\n",
              "      <td>3.797912e+04</td>\n",
              "      <td>1.200000e-01</td>\n",
              "      <td>0.000000e+00</td>\n",
              "      <td>3.000000e+00</td>\n",
              "      <td>1.600000e+01</td>\n",
              "      <td>1.200000e+01</td>\n",
              "      <td>2.000000e+00</td>\n",
              "      <td>2.000000e+00</td>\n",
              "      <td>1.000000e+00</td>\n",
              "      <td>2165 days 00:00:00</td>\n",
              "      <td>4.962510e+05</td>\n",
              "      <td>0.000000e+00</td>\n",
              "    </tr>\n",
              "    <tr>\n",
              "      <th>75%</th>\n",
              "      <td>9.758000e+03</td>\n",
              "      <td>2.000000e+00</td>\n",
              "      <td>1.000000e+00</td>\n",
              "      <td>4.000000e+01</td>\n",
              "      <td>2.000000e+01</td>\n",
              "      <td>1.147417e+05</td>\n",
              "      <td>3.900000e-01</td>\n",
              "      <td>0.000000e+00</td>\n",
              "      <td>4.000000e+00</td>\n",
              "      <td>2.400000e+01</td>\n",
              "      <td>1.500000e+01</td>\n",
              "      <td>2.000000e+00</td>\n",
              "      <td>3.000000e+00</td>\n",
              "      <td>1.000000e+00</td>\n",
              "      <td>3411 days 00:00:00</td>\n",
              "      <td>6.039970e+05</td>\n",
              "      <td>0.000000e+00</td>\n",
              "    </tr>\n",
              "    <tr>\n",
              "      <th>max</th>\n",
              "      <td>1.506900e+04</td>\n",
              "      <td>3.000000e+00</td>\n",
              "      <td>4.000000e+00</td>\n",
              "      <td>5.000000e+01</td>\n",
              "      <td>3.500000e+01</td>\n",
              "      <td>1.772279e+08</td>\n",
              "      <td>5.616200e+02</td>\n",
              "      <td>0.000000e+00</td>\n",
              "      <td>5.000000e+00</td>\n",
              "      <td>3.700000e+01</td>\n",
              "      <td>2.700000e+01</td>\n",
              "      <td>2.000000e+00</td>\n",
              "      <td>6.000000e+00</td>\n",
              "      <td>1.000000e+00</td>\n",
              "      <td>3803 days 00:00:00</td>\n",
              "      <td>6.884290e+05</td>\n",
              "      <td>1.000000e+00</td>\n",
              "    </tr>\n",
              "  </tbody>\n",
              "</table>\n",
              "</div>"
            ],
            "text/plain": [
              "            Cliente   ClaseEnvase  ...      CodigoDC  Ejecuto_Promo\n",
              "count  4.555212e+06  4.555212e+06  ...  2.810552e+06   2.810552e+06\n",
              "mean   6.555949e+03  1.782569e+00  ...  5.161113e+05   1.547241e-01\n",
              "std    3.914006e+03  4.125012e-01  ...  1.063939e+05   3.616415e-01\n",
              "min    1.000000e+00  1.000000e+00  ...  2.976010e+05   0.000000e+00\n",
              "25%    3.231000e+03  2.000000e+00  ...  4.114340e+05   0.000000e+00\n",
              "50%    6.224000e+03  2.000000e+00  ...  4.962510e+05   0.000000e+00\n",
              "75%    9.758000e+03  2.000000e+00  ...  6.039970e+05   0.000000e+00\n",
              "max    1.506900e+04  3.000000e+00  ...  6.884290e+05   1.000000e+00\n",
              "\n",
              "[8 rows x 17 columns]"
            ]
          },
          "metadata": {
            "tags": []
          },
          "execution_count": 78
        }
      ]
    },
    {
      "cell_type": "code",
      "metadata": {
        "colab": {
          "base_uri": "https://localhost:8080/"
        },
        "id": "CcM4iDfQuEvK",
        "outputId": "607e2787-48f5-4aa5-b939-bcf4d9e07c84"
      },
      "source": [
        "Dataset.info(null_counts=True)"
      ],
      "execution_count": null,
      "outputs": [
        {
          "output_type": "stream",
          "text": [
            "<class 'pandas.core.frame.DataFrame'>\n",
            "Int64Index: 4555212 entries, 0 to 4555211\n",
            "Data columns (total 21 columns):\n",
            " #   Column            Non-Null Count    Dtype          \n",
            "---  ------            --------------    -----          \n",
            " 0   Cliente           4555212 non-null  int64          \n",
            " 1   FechaVenta        4555212 non-null  datetime64[ns] \n",
            " 2   ClaseEnvase       4555212 non-null  int64          \n",
            " 3   SegmentoPrecio    4555207 non-null  float64        \n",
            " 4   Marca             4555212 non-null  int64          \n",
            " 5   Cupo              4555207 non-null  float64        \n",
            " 6   Nr                4555212 non-null  float64        \n",
            " 7   Hl                4555212 non-null  float64        \n",
            " 8   Dcto              4555212 non-null  float64        \n",
            " 9   FechaAltaCliente  4555212 non-null  datetime64[ns] \n",
            " 10  Region            4555212 non-null  int64          \n",
            " 11  Gerencia          4555212 non-null  int64          \n",
            " 12  SubCanal          4555212 non-null  int64          \n",
            " 13  TipoPoblacion     4555212 non-null  int64          \n",
            " 14  Estrato           4555212 non-null  int64          \n",
            " 15  EF                4555212 non-null  int64          \n",
            " 16  Antiguedad        4555212 non-null  timedelta64[ns]\n",
            " 17  CodigoDC          2810552 non-null  float64        \n",
            " 18  Fecha_Desde       2810552 non-null  datetime64[ns] \n",
            " 19  Fecha_Hasta       2810552 non-null  datetime64[ns] \n",
            " 20  Ejecuto_Promo     2810552 non-null  float64        \n",
            "dtypes: datetime64[ns](4), float64(7), int64(9), timedelta64[ns](1)\n",
            "memory usage: 764.6 MB\n"
          ],
          "name": "stdout"
        }
      ]
    },
    {
      "cell_type": "markdown",
      "metadata": {
        "id": "rdz549lIu0GC"
      },
      "source": [
        "**Algunas simplificaciones ...**"
      ]
    },
    {
      "cell_type": "markdown",
      "metadata": {
        "id": "WJiKaGQbvg_h"
      },
      "source": [
        "------ Eliminar todos los valores nulos"
      ]
    },
    {
      "cell_type": "code",
      "metadata": {
        "colab": {
          "base_uri": "https://localhost:8080/",
          "height": 224
        },
        "id": "4lvrRRW8vMvD",
        "outputId": "b83c6dc6-f2da-4a30-fd76-75cb6ce9f631"
      },
      "source": [
        "# Eliminar todos los valores nulos\n",
        "Dataset=Dataset.dropna()\n",
        "Dataset.describe()\n",
        "Dataset.head()"
      ],
      "execution_count": null,
      "outputs": [
        {
          "output_type": "execute_result",
          "data": {
            "text/html": [
              "<div>\n",
              "<style scoped>\n",
              "    .dataframe tbody tr th:only-of-type {\n",
              "        vertical-align: middle;\n",
              "    }\n",
              "\n",
              "    .dataframe tbody tr th {\n",
              "        vertical-align: top;\n",
              "    }\n",
              "\n",
              "    .dataframe thead th {\n",
              "        text-align: right;\n",
              "    }\n",
              "</style>\n",
              "<table border=\"1\" class=\"dataframe\">\n",
              "  <thead>\n",
              "    <tr style=\"text-align: right;\">\n",
              "      <th></th>\n",
              "      <th>Cliente</th>\n",
              "      <th>FechaVenta</th>\n",
              "      <th>ClaseEnvase</th>\n",
              "      <th>SegmentoPrecio</th>\n",
              "      <th>Marca</th>\n",
              "      <th>Cupo</th>\n",
              "      <th>Nr</th>\n",
              "      <th>Hl</th>\n",
              "      <th>Dcto</th>\n",
              "      <th>FechaAltaCliente</th>\n",
              "      <th>Region</th>\n",
              "      <th>Gerencia</th>\n",
              "      <th>SubCanal</th>\n",
              "      <th>TipoPoblacion</th>\n",
              "      <th>Estrato</th>\n",
              "      <th>EF</th>\n",
              "      <th>Antiguedad</th>\n",
              "      <th>CodigoDC</th>\n",
              "      <th>Fecha_Desde</th>\n",
              "      <th>Fecha_Hasta</th>\n",
              "      <th>Ejecuto_Promo</th>\n",
              "    </tr>\n",
              "  </thead>\n",
              "  <tbody>\n",
              "    <tr>\n",
              "      <th>17</th>\n",
              "      <td>1</td>\n",
              "      <td>2019-02-01</td>\n",
              "      <td>2</td>\n",
              "      <td>1.0</td>\n",
              "      <td>40</td>\n",
              "      <td>16.0</td>\n",
              "      <td>38896.3</td>\n",
              "      <td>0.12</td>\n",
              "      <td>0.0</td>\n",
              "      <td>2009-03-03</td>\n",
              "      <td>4</td>\n",
              "      <td>21</td>\n",
              "      <td>12</td>\n",
              "      <td>1</td>\n",
              "      <td>1</td>\n",
              "      <td>1</td>\n",
              "      <td>3803 days</td>\n",
              "      <td>357832.0</td>\n",
              "      <td>2018-09-07</td>\n",
              "      <td>2018-09-11</td>\n",
              "      <td>0.0</td>\n",
              "    </tr>\n",
              "    <tr>\n",
              "      <th>18</th>\n",
              "      <td>1</td>\n",
              "      <td>2019-02-01</td>\n",
              "      <td>2</td>\n",
              "      <td>1.0</td>\n",
              "      <td>40</td>\n",
              "      <td>16.0</td>\n",
              "      <td>38896.3</td>\n",
              "      <td>0.12</td>\n",
              "      <td>0.0</td>\n",
              "      <td>2009-03-03</td>\n",
              "      <td>4</td>\n",
              "      <td>21</td>\n",
              "      <td>12</td>\n",
              "      <td>1</td>\n",
              "      <td>1</td>\n",
              "      <td>1</td>\n",
              "      <td>3803 days</td>\n",
              "      <td>355107.0</td>\n",
              "      <td>2018-09-05</td>\n",
              "      <td>2018-09-06</td>\n",
              "      <td>0.0</td>\n",
              "    </tr>\n",
              "    <tr>\n",
              "      <th>19</th>\n",
              "      <td>1</td>\n",
              "      <td>2019-02-01</td>\n",
              "      <td>2</td>\n",
              "      <td>1.0</td>\n",
              "      <td>40</td>\n",
              "      <td>16.0</td>\n",
              "      <td>38896.3</td>\n",
              "      <td>0.12</td>\n",
              "      <td>0.0</td>\n",
              "      <td>2009-03-03</td>\n",
              "      <td>4</td>\n",
              "      <td>21</td>\n",
              "      <td>12</td>\n",
              "      <td>1</td>\n",
              "      <td>1</td>\n",
              "      <td>1</td>\n",
              "      <td>3803 days</td>\n",
              "      <td>408714.0</td>\n",
              "      <td>2018-09-20</td>\n",
              "      <td>2018-09-29</td>\n",
              "      <td>0.0</td>\n",
              "    </tr>\n",
              "    <tr>\n",
              "      <th>20</th>\n",
              "      <td>1</td>\n",
              "      <td>2019-02-01</td>\n",
              "      <td>2</td>\n",
              "      <td>1.0</td>\n",
              "      <td>40</td>\n",
              "      <td>16.0</td>\n",
              "      <td>38896.3</td>\n",
              "      <td>0.12</td>\n",
              "      <td>0.0</td>\n",
              "      <td>2009-03-03</td>\n",
              "      <td>4</td>\n",
              "      <td>21</td>\n",
              "      <td>12</td>\n",
              "      <td>1</td>\n",
              "      <td>1</td>\n",
              "      <td>1</td>\n",
              "      <td>3803 days</td>\n",
              "      <td>405557.0</td>\n",
              "      <td>2018-09-17</td>\n",
              "      <td>2018-09-23</td>\n",
              "      <td>0.0</td>\n",
              "    </tr>\n",
              "    <tr>\n",
              "      <th>21</th>\n",
              "      <td>1</td>\n",
              "      <td>2019-02-01</td>\n",
              "      <td>2</td>\n",
              "      <td>1.0</td>\n",
              "      <td>40</td>\n",
              "      <td>16.0</td>\n",
              "      <td>38896.3</td>\n",
              "      <td>0.12</td>\n",
              "      <td>0.0</td>\n",
              "      <td>2009-03-03</td>\n",
              "      <td>4</td>\n",
              "      <td>21</td>\n",
              "      <td>12</td>\n",
              "      <td>1</td>\n",
              "      <td>1</td>\n",
              "      <td>1</td>\n",
              "      <td>3803 days</td>\n",
              "      <td>411125.0</td>\n",
              "      <td>2018-10-04</td>\n",
              "      <td>2018-10-04</td>\n",
              "      <td>0.0</td>\n",
              "    </tr>\n",
              "  </tbody>\n",
              "</table>\n",
              "</div>"
            ],
            "text/plain": [
              "    Cliente FechaVenta  ClaseEnvase  ...  Fecha_Desde  Fecha_Hasta  Ejecuto_Promo\n",
              "17        1 2019-02-01            2  ...   2018-09-07   2018-09-11            0.0\n",
              "18        1 2019-02-01            2  ...   2018-09-05   2018-09-06            0.0\n",
              "19        1 2019-02-01            2  ...   2018-09-20   2018-09-29            0.0\n",
              "20        1 2019-02-01            2  ...   2018-09-17   2018-09-23            0.0\n",
              "21        1 2019-02-01            2  ...   2018-10-04   2018-10-04            0.0\n",
              "\n",
              "[5 rows x 21 columns]"
            ]
          },
          "metadata": {
            "tags": []
          },
          "execution_count": 80
        }
      ]
    },
    {
      "cell_type": "code",
      "metadata": {
        "colab": {
          "base_uri": "https://localhost:8080/"
        },
        "id": "4BTaLuD4vTpa",
        "outputId": "f0374274-84b3-4444-c3ce-ee2220d77a88"
      },
      "source": [
        "Dataset.info(null_counts=True)"
      ],
      "execution_count": null,
      "outputs": [
        {
          "output_type": "stream",
          "text": [
            "<class 'pandas.core.frame.DataFrame'>\n",
            "Int64Index: 2810552 entries, 17 to 4555186\n",
            "Data columns (total 21 columns):\n",
            " #   Column            Non-Null Count    Dtype          \n",
            "---  ------            --------------    -----          \n",
            " 0   Cliente           2810552 non-null  int64          \n",
            " 1   FechaVenta        2810552 non-null  datetime64[ns] \n",
            " 2   ClaseEnvase       2810552 non-null  int64          \n",
            " 3   SegmentoPrecio    2810552 non-null  float64        \n",
            " 4   Marca             2810552 non-null  int64          \n",
            " 5   Cupo              2810552 non-null  float64        \n",
            " 6   Nr                2810552 non-null  float64        \n",
            " 7   Hl                2810552 non-null  float64        \n",
            " 8   Dcto              2810552 non-null  float64        \n",
            " 9   FechaAltaCliente  2810552 non-null  datetime64[ns] \n",
            " 10  Region            2810552 non-null  int64          \n",
            " 11  Gerencia          2810552 non-null  int64          \n",
            " 12  SubCanal          2810552 non-null  int64          \n",
            " 13  TipoPoblacion     2810552 non-null  int64          \n",
            " 14  Estrato           2810552 non-null  int64          \n",
            " 15  EF                2810552 non-null  int64          \n",
            " 16  Antiguedad        2810552 non-null  timedelta64[ns]\n",
            " 17  CodigoDC          2810552 non-null  float64        \n",
            " 18  Fecha_Desde       2810552 non-null  datetime64[ns] \n",
            " 19  Fecha_Hasta       2810552 non-null  datetime64[ns] \n",
            " 20  Ejecuto_Promo     2810552 non-null  float64        \n",
            "dtypes: datetime64[ns](4), float64(7), int64(9), timedelta64[ns](1)\n",
            "memory usage: 471.7 MB\n"
          ],
          "name": "stdout"
        }
      ]
    },
    {
      "cell_type": "markdown",
      "metadata": {
        "id": "-5I2wmm1v0KL"
      },
      "source": [
        "------ Filtrar o acotar datos"
      ]
    },
    {
      "cell_type": "code",
      "metadata": {
        "id": "7vd9-jlBtIYb",
        "colab": {
          "base_uri": "https://localhost:8080/",
          "height": 439
        },
        "outputId": "a6cef768-d5e2-4a96-dde1-ad278c00a714"
      },
      "source": [
        "# Filtrar los clientes\n",
        "#Dataset=Dataset[Dataset['Cliente']<355]\n",
        "#Dataset=Dataset.groupby(['Cliente','Marca','Cupo']).agg('mean').reset_index()\n",
        "#Dataset=Dataset[Dataset['Mes']<2]\n",
        "Dataset"
      ],
      "execution_count": null,
      "outputs": [
        {
          "output_type": "execute_result",
          "data": {
            "text/html": [
              "<div>\n",
              "<style scoped>\n",
              "    .dataframe tbody tr th:only-of-type {\n",
              "        vertical-align: middle;\n",
              "    }\n",
              "\n",
              "    .dataframe tbody tr th {\n",
              "        vertical-align: top;\n",
              "    }\n",
              "\n",
              "    .dataframe thead th {\n",
              "        text-align: right;\n",
              "    }\n",
              "</style>\n",
              "<table border=\"1\" class=\"dataframe\">\n",
              "  <thead>\n",
              "    <tr style=\"text-align: right;\">\n",
              "      <th></th>\n",
              "      <th>Cliente</th>\n",
              "      <th>FechaVenta</th>\n",
              "      <th>ClaseEnvase</th>\n",
              "      <th>SegmentoPrecio</th>\n",
              "      <th>Marca</th>\n",
              "      <th>Cupo</th>\n",
              "      <th>Nr</th>\n",
              "      <th>Hl</th>\n",
              "      <th>Dcto</th>\n",
              "      <th>FechaAltaCliente</th>\n",
              "      <th>Region</th>\n",
              "      <th>Gerencia</th>\n",
              "      <th>SubCanal</th>\n",
              "      <th>TipoPoblacion</th>\n",
              "      <th>Estrato</th>\n",
              "      <th>EF</th>\n",
              "      <th>Antiguedad</th>\n",
              "      <th>CodigoDC</th>\n",
              "      <th>Fecha_Desde</th>\n",
              "      <th>Fecha_Hasta</th>\n",
              "      <th>Ejecuto_Promo</th>\n",
              "    </tr>\n",
              "  </thead>\n",
              "  <tbody>\n",
              "    <tr>\n",
              "      <th>17</th>\n",
              "      <td>1</td>\n",
              "      <td>2019-02-01</td>\n",
              "      <td>2</td>\n",
              "      <td>1.0</td>\n",
              "      <td>40</td>\n",
              "      <td>16.0</td>\n",
              "      <td>38896.30</td>\n",
              "      <td>0.12</td>\n",
              "      <td>0.0</td>\n",
              "      <td>2009-03-03</td>\n",
              "      <td>4</td>\n",
              "      <td>21</td>\n",
              "      <td>12</td>\n",
              "      <td>1</td>\n",
              "      <td>1</td>\n",
              "      <td>1</td>\n",
              "      <td>3803 days</td>\n",
              "      <td>357832.0</td>\n",
              "      <td>2018-09-07</td>\n",
              "      <td>2018-09-11</td>\n",
              "      <td>0.0</td>\n",
              "    </tr>\n",
              "    <tr>\n",
              "      <th>18</th>\n",
              "      <td>1</td>\n",
              "      <td>2019-02-01</td>\n",
              "      <td>2</td>\n",
              "      <td>1.0</td>\n",
              "      <td>40</td>\n",
              "      <td>16.0</td>\n",
              "      <td>38896.30</td>\n",
              "      <td>0.12</td>\n",
              "      <td>0.0</td>\n",
              "      <td>2009-03-03</td>\n",
              "      <td>4</td>\n",
              "      <td>21</td>\n",
              "      <td>12</td>\n",
              "      <td>1</td>\n",
              "      <td>1</td>\n",
              "      <td>1</td>\n",
              "      <td>3803 days</td>\n",
              "      <td>355107.0</td>\n",
              "      <td>2018-09-05</td>\n",
              "      <td>2018-09-06</td>\n",
              "      <td>0.0</td>\n",
              "    </tr>\n",
              "    <tr>\n",
              "      <th>19</th>\n",
              "      <td>1</td>\n",
              "      <td>2019-02-01</td>\n",
              "      <td>2</td>\n",
              "      <td>1.0</td>\n",
              "      <td>40</td>\n",
              "      <td>16.0</td>\n",
              "      <td>38896.30</td>\n",
              "      <td>0.12</td>\n",
              "      <td>0.0</td>\n",
              "      <td>2009-03-03</td>\n",
              "      <td>4</td>\n",
              "      <td>21</td>\n",
              "      <td>12</td>\n",
              "      <td>1</td>\n",
              "      <td>1</td>\n",
              "      <td>1</td>\n",
              "      <td>3803 days</td>\n",
              "      <td>408714.0</td>\n",
              "      <td>2018-09-20</td>\n",
              "      <td>2018-09-29</td>\n",
              "      <td>0.0</td>\n",
              "    </tr>\n",
              "    <tr>\n",
              "      <th>20</th>\n",
              "      <td>1</td>\n",
              "      <td>2019-02-01</td>\n",
              "      <td>2</td>\n",
              "      <td>1.0</td>\n",
              "      <td>40</td>\n",
              "      <td>16.0</td>\n",
              "      <td>38896.30</td>\n",
              "      <td>0.12</td>\n",
              "      <td>0.0</td>\n",
              "      <td>2009-03-03</td>\n",
              "      <td>4</td>\n",
              "      <td>21</td>\n",
              "      <td>12</td>\n",
              "      <td>1</td>\n",
              "      <td>1</td>\n",
              "      <td>1</td>\n",
              "      <td>3803 days</td>\n",
              "      <td>405557.0</td>\n",
              "      <td>2018-09-17</td>\n",
              "      <td>2018-09-23</td>\n",
              "      <td>0.0</td>\n",
              "    </tr>\n",
              "    <tr>\n",
              "      <th>21</th>\n",
              "      <td>1</td>\n",
              "      <td>2019-02-01</td>\n",
              "      <td>2</td>\n",
              "      <td>1.0</td>\n",
              "      <td>40</td>\n",
              "      <td>16.0</td>\n",
              "      <td>38896.30</td>\n",
              "      <td>0.12</td>\n",
              "      <td>0.0</td>\n",
              "      <td>2009-03-03</td>\n",
              "      <td>4</td>\n",
              "      <td>21</td>\n",
              "      <td>12</td>\n",
              "      <td>1</td>\n",
              "      <td>1</td>\n",
              "      <td>1</td>\n",
              "      <td>3803 days</td>\n",
              "      <td>411125.0</td>\n",
              "      <td>2018-10-04</td>\n",
              "      <td>2018-10-04</td>\n",
              "      <td>0.0</td>\n",
              "    </tr>\n",
              "    <tr>\n",
              "      <th>...</th>\n",
              "      <td>...</td>\n",
              "      <td>...</td>\n",
              "      <td>...</td>\n",
              "      <td>...</td>\n",
              "      <td>...</td>\n",
              "      <td>...</td>\n",
              "      <td>...</td>\n",
              "      <td>...</td>\n",
              "      <td>...</td>\n",
              "      <td>...</td>\n",
              "      <td>...</td>\n",
              "      <td>...</td>\n",
              "      <td>...</td>\n",
              "      <td>...</td>\n",
              "      <td>...</td>\n",
              "      <td>...</td>\n",
              "      <td>...</td>\n",
              "      <td>...</td>\n",
              "      <td>...</td>\n",
              "      <td>...</td>\n",
              "      <td>...</td>\n",
              "    </tr>\n",
              "    <tr>\n",
              "      <th>4555182</th>\n",
              "      <td>15002</td>\n",
              "      <td>2019-07-01</td>\n",
              "      <td>2</td>\n",
              "      <td>1.0</td>\n",
              "      <td>40</td>\n",
              "      <td>16.0</td>\n",
              "      <td>136720.30</td>\n",
              "      <td>0.42</td>\n",
              "      <td>0.0</td>\n",
              "      <td>2019-02-21</td>\n",
              "      <td>3</td>\n",
              "      <td>9</td>\n",
              "      <td>16</td>\n",
              "      <td>2</td>\n",
              "      <td>1</td>\n",
              "      <td>0</td>\n",
              "      <td>161 days</td>\n",
              "      <td>683179.0</td>\n",
              "      <td>2019-09-22</td>\n",
              "      <td>2019-09-26</td>\n",
              "      <td>0.0</td>\n",
              "    </tr>\n",
              "    <tr>\n",
              "      <th>4555183</th>\n",
              "      <td>15002</td>\n",
              "      <td>2019-08-01</td>\n",
              "      <td>2</td>\n",
              "      <td>1.0</td>\n",
              "      <td>40</td>\n",
              "      <td>16.0</td>\n",
              "      <td>169882.78</td>\n",
              "      <td>0.53</td>\n",
              "      <td>-5930.7</td>\n",
              "      <td>2019-02-21</td>\n",
              "      <td>3</td>\n",
              "      <td>9</td>\n",
              "      <td>16</td>\n",
              "      <td>2</td>\n",
              "      <td>1</td>\n",
              "      <td>0</td>\n",
              "      <td>161 days</td>\n",
              "      <td>633339.0</td>\n",
              "      <td>2019-07-11</td>\n",
              "      <td>2019-07-30</td>\n",
              "      <td>0.0</td>\n",
              "    </tr>\n",
              "    <tr>\n",
              "      <th>4555184</th>\n",
              "      <td>15002</td>\n",
              "      <td>2019-08-01</td>\n",
              "      <td>2</td>\n",
              "      <td>1.0</td>\n",
              "      <td>40</td>\n",
              "      <td>16.0</td>\n",
              "      <td>169882.78</td>\n",
              "      <td>0.53</td>\n",
              "      <td>-5930.7</td>\n",
              "      <td>2019-02-21</td>\n",
              "      <td>3</td>\n",
              "      <td>9</td>\n",
              "      <td>16</td>\n",
              "      <td>2</td>\n",
              "      <td>1</td>\n",
              "      <td>0</td>\n",
              "      <td>161 days</td>\n",
              "      <td>641860.0</td>\n",
              "      <td>2019-08-07</td>\n",
              "      <td>2019-08-20</td>\n",
              "      <td>1.0</td>\n",
              "    </tr>\n",
              "    <tr>\n",
              "      <th>4555185</th>\n",
              "      <td>15002</td>\n",
              "      <td>2019-08-01</td>\n",
              "      <td>2</td>\n",
              "      <td>1.0</td>\n",
              "      <td>40</td>\n",
              "      <td>16.0</td>\n",
              "      <td>169882.78</td>\n",
              "      <td>0.53</td>\n",
              "      <td>-5930.7</td>\n",
              "      <td>2019-02-21</td>\n",
              "      <td>3</td>\n",
              "      <td>9</td>\n",
              "      <td>16</td>\n",
              "      <td>2</td>\n",
              "      <td>1</td>\n",
              "      <td>0</td>\n",
              "      <td>161 days</td>\n",
              "      <td>672200.0</td>\n",
              "      <td>2019-09-11</td>\n",
              "      <td>2019-09-17</td>\n",
              "      <td>0.0</td>\n",
              "    </tr>\n",
              "    <tr>\n",
              "      <th>4555186</th>\n",
              "      <td>15002</td>\n",
              "      <td>2019-08-01</td>\n",
              "      <td>2</td>\n",
              "      <td>1.0</td>\n",
              "      <td>40</td>\n",
              "      <td>16.0</td>\n",
              "      <td>169882.78</td>\n",
              "      <td>0.53</td>\n",
              "      <td>-5930.7</td>\n",
              "      <td>2019-02-21</td>\n",
              "      <td>3</td>\n",
              "      <td>9</td>\n",
              "      <td>16</td>\n",
              "      <td>2</td>\n",
              "      <td>1</td>\n",
              "      <td>0</td>\n",
              "      <td>161 days</td>\n",
              "      <td>683179.0</td>\n",
              "      <td>2019-09-22</td>\n",
              "      <td>2019-09-26</td>\n",
              "      <td>0.0</td>\n",
              "    </tr>\n",
              "  </tbody>\n",
              "</table>\n",
              "<p>2810552 rows × 21 columns</p>\n",
              "</div>"
            ],
            "text/plain": [
              "         Cliente FechaVenta  ClaseEnvase  ...  Fecha_Desde  Fecha_Hasta  Ejecuto_Promo\n",
              "17             1 2019-02-01            2  ...   2018-09-07   2018-09-11            0.0\n",
              "18             1 2019-02-01            2  ...   2018-09-05   2018-09-06            0.0\n",
              "19             1 2019-02-01            2  ...   2018-09-20   2018-09-29            0.0\n",
              "20             1 2019-02-01            2  ...   2018-09-17   2018-09-23            0.0\n",
              "21             1 2019-02-01            2  ...   2018-10-04   2018-10-04            0.0\n",
              "...          ...        ...          ...  ...          ...          ...            ...\n",
              "4555182    15002 2019-07-01            2  ...   2019-09-22   2019-09-26            0.0\n",
              "4555183    15002 2019-08-01            2  ...   2019-07-11   2019-07-30            0.0\n",
              "4555184    15002 2019-08-01            2  ...   2019-08-07   2019-08-20            1.0\n",
              "4555185    15002 2019-08-01            2  ...   2019-09-11   2019-09-17            0.0\n",
              "4555186    15002 2019-08-01            2  ...   2019-09-22   2019-09-26            0.0\n",
              "\n",
              "[2810552 rows x 21 columns]"
            ]
          },
          "metadata": {
            "tags": []
          },
          "execution_count": 83
        }
      ]
    },
    {
      "cell_type": "markdown",
      "metadata": {
        "id": "o-Bfe9pBwnBx"
      },
      "source": [
        "## 3. Entrenar el modelo \n",
        "Se prueban varios algoritmos"
      ]
    },
    {
      "cell_type": "code",
      "metadata": {
        "colab": {
          "base_uri": "https://localhost:8080/"
        },
        "id": "Xai1Rx7Avv4M",
        "outputId": "11560896-4cb8-4cd0-a129-861a23acc48e"
      },
      "source": [
        "x = Dataset.iloc[:,[0,2,3,4,5,7,6,8,10,11,12,13,14,15,17]].values\n",
        "y = Dataset.iloc[:,[20]].values.astype(float)\n",
        "#y = y.to_numpy()\n",
        "\n",
        "#3 Feature Scaling\n",
        "from sklearn.preprocessing import StandardScaler\n",
        "sc_X = StandardScaler()\n",
        "#x = sc_X.fit_transform(x)\n",
        "\n",
        "print(x)\n",
        "print(y)\n",
        "\n",
        "# Import train_test_split function\n",
        "from sklearn.model_selection import train_test_split\n",
        "x_train , x_test, y_train, y_test = train_test_split(x, y, train_size = 0.8, random_state = 40)"
      ],
      "execution_count": null,
      "outputs": [
        {
          "output_type": "stream",
          "text": [
            "[[1.00000e+00 2.00000e+00 1.00000e+00 ... 1.00000e+00 1.00000e+00\n",
            "  3.57832e+05]\n",
            " [1.00000e+00 2.00000e+00 1.00000e+00 ... 1.00000e+00 1.00000e+00\n",
            "  3.55107e+05]\n",
            " [1.00000e+00 2.00000e+00 1.00000e+00 ... 1.00000e+00 1.00000e+00\n",
            "  4.08714e+05]\n",
            " ...\n",
            " [1.50020e+04 2.00000e+00 1.00000e+00 ... 1.00000e+00 0.00000e+00\n",
            "  6.41860e+05]\n",
            " [1.50020e+04 2.00000e+00 1.00000e+00 ... 1.00000e+00 0.00000e+00\n",
            "  6.72200e+05]\n",
            " [1.50020e+04 2.00000e+00 1.00000e+00 ... 1.00000e+00 0.00000e+00\n",
            "  6.83179e+05]]\n",
            "[[0.]\n",
            " [0.]\n",
            " [0.]\n",
            " ...\n",
            " [1.]\n",
            " [0.]\n",
            " [0.]]\n"
          ],
          "name": "stdout"
        }
      ]
    },
    {
      "cell_type": "code",
      "metadata": {
        "id": "mizDndDOWSsG"
      },
      "source": [
        ""
      ],
      "execution_count": null,
      "outputs": []
    },
    {
      "cell_type": "code",
      "metadata": {
        "id": "8x4U8C2xylaV"
      },
      "source": [
        "from sklearn.pipeline import make_pipeline\n",
        "from sklearn.preprocessing import StandardScaler\n",
        "import numpy as np\n",
        "\n",
        "\n",
        "import numpy as np\n",
        "from sklearn.svm import SVR\n",
        "import matplotlib.pyplot as plt\n",
        "\n",
        "regressor = make_pipeline(StandardScaler(), SVR(kernel='poly'))\n",
        "regressor.fit(x_train, y_train.ravel())\n",
        "\n",
        "#regressor = SVR(kernel='rbf')#), C=100, gamma='auto', degree=4, epsilon=.1, coef0=1)\n",
        "#regressor.fit(x_train, y_train.ravel())"
      ],
      "execution_count": null,
      "outputs": []
    },
    {
      "cell_type": "code",
      "metadata": {
        "id": "g_3OGgLa4f7K"
      },
      "source": [
        "from sklearn.metrics import mean_absolute_error\n",
        "mean_absolute_error(y_test, regressor.predict(x_test))"
      ],
      "execution_count": null,
      "outputs": []
    },
    {
      "cell_type": "code",
      "metadata": {
        "id": "PdIYUpBe8WTn"
      },
      "source": [
        " from sklearn.metrics import r2_score\n",
        "\n",
        "r2_score(y_test, regressor.predict(x_test))"
      ],
      "execution_count": null,
      "outputs": []
    },
    {
      "cell_type": "code",
      "metadata": {
        "id": "KKSRXQGn2pEk"
      },
      "source": [
        "from sklearn.neural_network import MLPRegressor\n",
        "from sklearn.datasets import make_regression\n",
        "from sklearn.model_selection import train_test_split\n",
        "\n",
        "regr = MLPRegressor(random_state=1, max_iter=500).fit(x_train, y_train.ravel())\n",
        "#regr.predict(x_test[:2])\n",
        "\n"
      ],
      "execution_count": null,
      "outputs": []
    },
    {
      "cell_type": "code",
      "metadata": {
        "id": "2sBmvDgURdX6"
      },
      "source": [
        "regr.score(x_test, y_test)"
      ],
      "execution_count": null,
      "outputs": []
    },
    {
      "cell_type": "code",
      "metadata": {
        "id": "rJO2FjPCRlJ1"
      },
      "source": [
        "import pandas as pd\n",
        "import numpy as np\n",
        "from sklearn.preprocessing import StandardScaler\n",
        "from sklearn.tree import DecisionTreeClassifier\n",
        "from sklearn.model_selection import train_test_split\n",
        "import seaborn as sns\n",
        "from sklearn.metrics import confusion_matrix\n",
        "#from sklearn.externals.six import StringIO  \n",
        "from IPython.display import Image  \n",
        "from sklearn.tree import export_graphviz\n",
        "\n",
        "\n",
        "sc = StandardScaler()\n",
        "x_train = sc.fit_transform(x_train)\n",
        "x_test = sc.transform(x_test)\n",
        "\n",
        "#Import svm model\n",
        "from sklearn import svm\n",
        "\n",
        "#Create a svm Classifier\n",
        "clf = svm.SVC(kernel='rbf') # RAdial basis function Kernel\n",
        "\n",
        "#Train the model using the training sets\n",
        "clf.fit(x_train, y_train.ravel())\n",
        "\n",
        "#Predict the response for test dataset\n",
        "y_pred = clf.predict(x_test)\n",
        "\n",
        "#Import scikit-learn metrics module for accuracy calculation\n",
        "from sklearn import metrics\n",
        "\n",
        "# Model Accuracy: how often is the classifier correct?\n",
        "print(\"Accuracy:\",metrics.accuracy_score(y_test, y_pred))\n"
      ],
      "execution_count": null,
      "outputs": []
    },
    {
      "cell_type": "code",
      "metadata": {
        "id": "iyou1G2STdpQ",
        "colab": {
          "base_uri": "https://localhost:8080/"
        },
        "outputId": "fedb8fc2-efec-4f01-d09d-be92651ff4a1"
      },
      "source": [
        "from sklearn.tree import DecisionTreeClassifier\n",
        "from sklearn.metrics import accuracy_score\n",
        "from sklearn.metrics import confusion_matrix\n",
        "\n",
        "model_2 = DecisionTreeClassifier()\n",
        "model_2.fit(x_train, y_train.ravel())\n",
        "predictions_DT = model_2.predict(x_test)\n",
        "\n",
        "print('Decision tree accuracy:', accuracy_score(predictions_DT, y_test))\n",
        "print('')\n",
        "print('Confusion matrix:')\n",
        "print(confusion_matrix(y_test,predictions_DT))"
      ],
      "execution_count": null,
      "outputs": [
        {
          "output_type": "stream",
          "text": [
            "Decision tree accuracy: 0.9586095984600906\n",
            "\n",
            "Confusion matrix:\n",
            "[[462638  12232]\n",
            " [ 11034  76207]]\n"
          ],
          "name": "stdout"
        }
      ]
    },
    {
      "cell_type": "code",
      "metadata": {
        "id": "w_DmDD2UU0SM",
        "colab": {
          "base_uri": "https://localhost:8080/"
        },
        "outputId": "2c752deb-2e79-49cb-e675-f69647bf3c30"
      },
      "source": [
        "predictions_DT"
      ],
      "execution_count": null,
      "outputs": [
        {
          "output_type": "execute_result",
          "data": {
            "text/plain": [
              "array([0., 0., 0., ..., 1., 0., 0.])"
            ]
          },
          "metadata": {
            "tags": []
          },
          "execution_count": 91
        }
      ]
    },
    {
      "cell_type": "code",
      "metadata": {
        "id": "KndmGWfcV59Z",
        "colab": {
          "base_uri": "https://localhost:8080/"
        },
        "outputId": "54f2d53c-49f2-47f7-954d-1d303f74d275"
      },
      "source": [
        "df = pd.DataFrame(data=predictions_DT, columns=[\"Ejecuto_Promo\"])\n",
        "print(df)"
      ],
      "execution_count": null,
      "outputs": [
        {
          "output_type": "stream",
          "text": [
            "        Ejecuto_Promo\n",
            "0                 0.0\n",
            "1                 0.0\n",
            "2                 0.0\n",
            "3                 0.0\n",
            "4                 1.0\n",
            "...               ...\n",
            "562106            1.0\n",
            "562107            0.0\n",
            "562108            1.0\n",
            "562109            0.0\n",
            "562110            0.0\n",
            "\n",
            "[562111 rows x 1 columns]\n"
          ],
          "name": "stdout"
        }
      ]
    },
    {
      "cell_type": "code",
      "metadata": {
        "colab": {
          "base_uri": "https://localhost:8080/"
        },
        "id": "uj-dG412XrjA",
        "outputId": "8aa97b2f-69f5-499f-955f-bad01d2a1560"
      },
      "source": [
        "df2 = pd.DataFrame(data=x_test)\n",
        "df2=df2.iloc[:,[0,4,5]]\n",
        "df2.columns=[\"Cliente\",\"Marca\",\"Cupo\"]\n",
        "print(df2)"
      ],
      "execution_count": null,
      "outputs": [
        {
          "output_type": "stream",
          "text": [
            "        Cliente  Marca  Cupo\n",
            "0       11478.0   16.0  0.15\n",
            "1         328.0   16.0  0.68\n",
            "2        9560.0   16.0  0.45\n",
            "3        5815.0   16.0  0.15\n",
            "4        7888.0   16.0  0.33\n",
            "...         ...    ...   ...\n",
            "562106  12191.0   16.0  0.06\n",
            "562107   2415.0   20.0  0.03\n",
            "562108   9292.0   16.0  0.03\n",
            "562109  14196.0    9.0  0.05\n",
            "562110   7434.0   16.0  0.09\n",
            "\n",
            "[562111 rows x 3 columns]\n"
          ],
          "name": "stdout"
        }
      ]
    },
    {
      "cell_type": "code",
      "metadata": {
        "colab": {
          "base_uri": "https://localhost:8080/",
          "height": 419
        },
        "id": "IA8ugEgSX1_o",
        "outputId": "93246379-2743-4092-fbc9-c00114d7790b"
      },
      "source": [
        "output=df2.join(df)\n",
        "output"
      ],
      "execution_count": null,
      "outputs": [
        {
          "output_type": "execute_result",
          "data": {
            "text/html": [
              "<div>\n",
              "<style scoped>\n",
              "    .dataframe tbody tr th:only-of-type {\n",
              "        vertical-align: middle;\n",
              "    }\n",
              "\n",
              "    .dataframe tbody tr th {\n",
              "        vertical-align: top;\n",
              "    }\n",
              "\n",
              "    .dataframe thead th {\n",
              "        text-align: right;\n",
              "    }\n",
              "</style>\n",
              "<table border=\"1\" class=\"dataframe\">\n",
              "  <thead>\n",
              "    <tr style=\"text-align: right;\">\n",
              "      <th></th>\n",
              "      <th>Cliente</th>\n",
              "      <th>Marca</th>\n",
              "      <th>Cupo</th>\n",
              "      <th>Ejecuto_Promo</th>\n",
              "    </tr>\n",
              "  </thead>\n",
              "  <tbody>\n",
              "    <tr>\n",
              "      <th>0</th>\n",
              "      <td>11478.0</td>\n",
              "      <td>16.0</td>\n",
              "      <td>0.15</td>\n",
              "      <td>0.0</td>\n",
              "    </tr>\n",
              "    <tr>\n",
              "      <th>1</th>\n",
              "      <td>328.0</td>\n",
              "      <td>16.0</td>\n",
              "      <td>0.68</td>\n",
              "      <td>0.0</td>\n",
              "    </tr>\n",
              "    <tr>\n",
              "      <th>2</th>\n",
              "      <td>9560.0</td>\n",
              "      <td>16.0</td>\n",
              "      <td>0.45</td>\n",
              "      <td>0.0</td>\n",
              "    </tr>\n",
              "    <tr>\n",
              "      <th>3</th>\n",
              "      <td>5815.0</td>\n",
              "      <td>16.0</td>\n",
              "      <td>0.15</td>\n",
              "      <td>0.0</td>\n",
              "    </tr>\n",
              "    <tr>\n",
              "      <th>4</th>\n",
              "      <td>7888.0</td>\n",
              "      <td>16.0</td>\n",
              "      <td>0.33</td>\n",
              "      <td>1.0</td>\n",
              "    </tr>\n",
              "    <tr>\n",
              "      <th>...</th>\n",
              "      <td>...</td>\n",
              "      <td>...</td>\n",
              "      <td>...</td>\n",
              "      <td>...</td>\n",
              "    </tr>\n",
              "    <tr>\n",
              "      <th>562106</th>\n",
              "      <td>12191.0</td>\n",
              "      <td>16.0</td>\n",
              "      <td>0.06</td>\n",
              "      <td>1.0</td>\n",
              "    </tr>\n",
              "    <tr>\n",
              "      <th>562107</th>\n",
              "      <td>2415.0</td>\n",
              "      <td>20.0</td>\n",
              "      <td>0.03</td>\n",
              "      <td>0.0</td>\n",
              "    </tr>\n",
              "    <tr>\n",
              "      <th>562108</th>\n",
              "      <td>9292.0</td>\n",
              "      <td>16.0</td>\n",
              "      <td>0.03</td>\n",
              "      <td>1.0</td>\n",
              "    </tr>\n",
              "    <tr>\n",
              "      <th>562109</th>\n",
              "      <td>14196.0</td>\n",
              "      <td>9.0</td>\n",
              "      <td>0.05</td>\n",
              "      <td>0.0</td>\n",
              "    </tr>\n",
              "    <tr>\n",
              "      <th>562110</th>\n",
              "      <td>7434.0</td>\n",
              "      <td>16.0</td>\n",
              "      <td>0.09</td>\n",
              "      <td>0.0</td>\n",
              "    </tr>\n",
              "  </tbody>\n",
              "</table>\n",
              "<p>562111 rows × 4 columns</p>\n",
              "</div>"
            ],
            "text/plain": [
              "        Cliente  Marca  Cupo  Ejecuto_Promo\n",
              "0       11478.0   16.0  0.15            0.0\n",
              "1         328.0   16.0  0.68            0.0\n",
              "2        9560.0   16.0  0.45            0.0\n",
              "3        5815.0   16.0  0.15            0.0\n",
              "4        7888.0   16.0  0.33            1.0\n",
              "...         ...    ...   ...            ...\n",
              "562106  12191.0   16.0  0.06            1.0\n",
              "562107   2415.0   20.0  0.03            0.0\n",
              "562108   9292.0   16.0  0.03            1.0\n",
              "562109  14196.0    9.0  0.05            0.0\n",
              "562110   7434.0   16.0  0.09            0.0\n",
              "\n",
              "[562111 rows x 4 columns]"
            ]
          },
          "metadata": {
            "tags": []
          },
          "execution_count": 113
        }
      ]
    },
    {
      "cell_type": "code",
      "metadata": {
        "id": "QWPrRS7XZyfR"
      },
      "source": [
        "df.to_csv(r'Path where you want to store the exported CSV file\\File Name.csv', index = False)"
      ],
      "execution_count": null,
      "outputs": []
    }
  ]
}